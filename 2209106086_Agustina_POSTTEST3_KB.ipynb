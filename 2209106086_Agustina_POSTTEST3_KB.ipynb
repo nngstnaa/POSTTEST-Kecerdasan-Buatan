{
  "nbformat": 4,
  "nbformat_minor": 0,
  "metadata": {
    "colab": {
      "provenance": [],
      "toc_visible": true,
      "authorship_tag": "ABX9TyPywQgasfeD7/LsFawy+UvD",
      "include_colab_link": true
    },
    "kernelspec": {
      "name": "python3",
      "display_name": "Python 3"
    },
    "language_info": {
      "name": "python"
    }
  },
  "cells": [
    {
      "cell_type": "markdown",
      "metadata": {
        "id": "view-in-github",
        "colab_type": "text"
      },
      "source": [
        "<a href=\"https://colab.research.google.com/github/nngstnaa/POSTTEST-Kecerdasan-Buatan/blob/main/2209106086_Agustina_POSTTEST3_KB.ipynb\" target=\"_parent\"><img src=\"https://colab.research.google.com/assets/colab-badge.svg\" alt=\"Open In Colab\"/></a>"
      ]
    },
    {
      "cell_type": "markdown",
      "source": [
        "**Nama : Agustina,\n",
        "NIM : 2209106086,\n",
        "Kelas :  Informatika B2 2022**"
      ],
      "metadata": {
        "id": "gzVl_groufQT"
      }
    },
    {
      "cell_type": "markdown",
      "source": [
        "# POSTTEST 2"
      ],
      "metadata": {
        "id": "jw0DHLR7_aaV"
      }
    },
    {
      "cell_type": "markdown",
      "source": [
        "**Import library library yang diperlukan**"
      ],
      "metadata": {
        "id": "yIzWbxBeuqkX"
      }
    },
    {
      "cell_type": "code",
      "source": [
        "import pandas as pd\n",
        "from prettytable import PrettyTable\n",
        "import matplotlib.pyplot as plt\n",
        "import seaborn as sns\n",
        "df = pd.read_csv('/content/sample_data/tourism_dataset.csv')\n",
        "df.describe()"
      ],
      "metadata": {
        "colab": {
          "base_uri": "https://localhost:8080/",
          "height": 300
        },
        "id": "mZN5KZ0kZ_yv",
        "outputId": "4463e07b-d352-4c03-e7eb-2f357f95200d"
      },
      "execution_count": null,
      "outputs": [
        {
          "output_type": "execute_result",
          "data": {
            "text/plain": [
              "            Visitors       Rating        Revenue\n",
              "count    5989.000000  5989.000000    5989.000000\n",
              "mean   501016.089497     3.009347  499479.367253\n",
              "std    289783.294978     1.155980  286743.225211\n",
              "min      1108.000000     1.000000    1025.810000\n",
              "25%    252789.000000     2.010000  251410.450000\n",
              "50%    500831.000000     3.000000  494169.350000\n",
              "75%    751371.000000     4.010000  742241.240000\n",
              "max    999982.000000     5.000000  999999.490000"
            ],
            "text/html": [
              "\n",
              "  <div id=\"df-c1d0e95e-d3c2-4791-acd7-3281fc36aef7\" class=\"colab-df-container\">\n",
              "    <div>\n",
              "<style scoped>\n",
              "    .dataframe tbody tr th:only-of-type {\n",
              "        vertical-align: middle;\n",
              "    }\n",
              "\n",
              "    .dataframe tbody tr th {\n",
              "        vertical-align: top;\n",
              "    }\n",
              "\n",
              "    .dataframe thead th {\n",
              "        text-align: right;\n",
              "    }\n",
              "</style>\n",
              "<table border=\"1\" class=\"dataframe\">\n",
              "  <thead>\n",
              "    <tr style=\"text-align: right;\">\n",
              "      <th></th>\n",
              "      <th>Visitors</th>\n",
              "      <th>Rating</th>\n",
              "      <th>Revenue</th>\n",
              "    </tr>\n",
              "  </thead>\n",
              "  <tbody>\n",
              "    <tr>\n",
              "      <th>count</th>\n",
              "      <td>5989.000000</td>\n",
              "      <td>5989.000000</td>\n",
              "      <td>5989.000000</td>\n",
              "    </tr>\n",
              "    <tr>\n",
              "      <th>mean</th>\n",
              "      <td>501016.089497</td>\n",
              "      <td>3.009347</td>\n",
              "      <td>499479.367253</td>\n",
              "    </tr>\n",
              "    <tr>\n",
              "      <th>std</th>\n",
              "      <td>289783.294978</td>\n",
              "      <td>1.155980</td>\n",
              "      <td>286743.225211</td>\n",
              "    </tr>\n",
              "    <tr>\n",
              "      <th>min</th>\n",
              "      <td>1108.000000</td>\n",
              "      <td>1.000000</td>\n",
              "      <td>1025.810000</td>\n",
              "    </tr>\n",
              "    <tr>\n",
              "      <th>25%</th>\n",
              "      <td>252789.000000</td>\n",
              "      <td>2.010000</td>\n",
              "      <td>251410.450000</td>\n",
              "    </tr>\n",
              "    <tr>\n",
              "      <th>50%</th>\n",
              "      <td>500831.000000</td>\n",
              "      <td>3.000000</td>\n",
              "      <td>494169.350000</td>\n",
              "    </tr>\n",
              "    <tr>\n",
              "      <th>75%</th>\n",
              "      <td>751371.000000</td>\n",
              "      <td>4.010000</td>\n",
              "      <td>742241.240000</td>\n",
              "    </tr>\n",
              "    <tr>\n",
              "      <th>max</th>\n",
              "      <td>999982.000000</td>\n",
              "      <td>5.000000</td>\n",
              "      <td>999999.490000</td>\n",
              "    </tr>\n",
              "  </tbody>\n",
              "</table>\n",
              "</div>\n",
              "    <div class=\"colab-df-buttons\">\n",
              "\n",
              "  <div class=\"colab-df-container\">\n",
              "    <button class=\"colab-df-convert\" onclick=\"convertToInteractive('df-c1d0e95e-d3c2-4791-acd7-3281fc36aef7')\"\n",
              "            title=\"Convert this dataframe to an interactive table.\"\n",
              "            style=\"display:none;\">\n",
              "\n",
              "  <svg xmlns=\"http://www.w3.org/2000/svg\" height=\"24px\" viewBox=\"0 -960 960 960\">\n",
              "    <path d=\"M120-120v-720h720v720H120Zm60-500h600v-160H180v160Zm220 220h160v-160H400v160Zm0 220h160v-160H400v160ZM180-400h160v-160H180v160Zm440 0h160v-160H620v160ZM180-180h160v-160H180v160Zm440 0h160v-160H620v160Z\"/>\n",
              "  </svg>\n",
              "    </button>\n",
              "\n",
              "  <style>\n",
              "    .colab-df-container {\n",
              "      display:flex;\n",
              "      gap: 12px;\n",
              "    }\n",
              "\n",
              "    .colab-df-convert {\n",
              "      background-color: #E8F0FE;\n",
              "      border: none;\n",
              "      border-radius: 50%;\n",
              "      cursor: pointer;\n",
              "      display: none;\n",
              "      fill: #1967D2;\n",
              "      height: 32px;\n",
              "      padding: 0 0 0 0;\n",
              "      width: 32px;\n",
              "    }\n",
              "\n",
              "    .colab-df-convert:hover {\n",
              "      background-color: #E2EBFA;\n",
              "      box-shadow: 0px 1px 2px rgba(60, 64, 67, 0.3), 0px 1px 3px 1px rgba(60, 64, 67, 0.15);\n",
              "      fill: #174EA6;\n",
              "    }\n",
              "\n",
              "    .colab-df-buttons div {\n",
              "      margin-bottom: 4px;\n",
              "    }\n",
              "\n",
              "    [theme=dark] .colab-df-convert {\n",
              "      background-color: #3B4455;\n",
              "      fill: #D2E3FC;\n",
              "    }\n",
              "\n",
              "    [theme=dark] .colab-df-convert:hover {\n",
              "      background-color: #434B5C;\n",
              "      box-shadow: 0px 1px 3px 1px rgba(0, 0, 0, 0.15);\n",
              "      filter: drop-shadow(0px 1px 2px rgba(0, 0, 0, 0.3));\n",
              "      fill: #FFFFFF;\n",
              "    }\n",
              "  </style>\n",
              "\n",
              "    <script>\n",
              "      const buttonEl =\n",
              "        document.querySelector('#df-c1d0e95e-d3c2-4791-acd7-3281fc36aef7 button.colab-df-convert');\n",
              "      buttonEl.style.display =\n",
              "        google.colab.kernel.accessAllowed ? 'block' : 'none';\n",
              "\n",
              "      async function convertToInteractive(key) {\n",
              "        const element = document.querySelector('#df-c1d0e95e-d3c2-4791-acd7-3281fc36aef7');\n",
              "        const dataTable =\n",
              "          await google.colab.kernel.invokeFunction('convertToInteractive',\n",
              "                                                    [key], {});\n",
              "        if (!dataTable) return;\n",
              "\n",
              "        const docLinkHtml = 'Like what you see? Visit the ' +\n",
              "          '<a target=\"_blank\" href=https://colab.research.google.com/notebooks/data_table.ipynb>data table notebook</a>'\n",
              "          + ' to learn more about interactive tables.';\n",
              "        element.innerHTML = '';\n",
              "        dataTable['output_type'] = 'display_data';\n",
              "        await google.colab.output.renderOutput(dataTable, element);\n",
              "        const docLink = document.createElement('div');\n",
              "        docLink.innerHTML = docLinkHtml;\n",
              "        element.appendChild(docLink);\n",
              "      }\n",
              "    </script>\n",
              "  </div>\n",
              "\n",
              "\n",
              "<div id=\"df-043e1431-9b24-4cb8-bad3-44078fc7e750\">\n",
              "  <button class=\"colab-df-quickchart\" onclick=\"quickchart('df-043e1431-9b24-4cb8-bad3-44078fc7e750')\"\n",
              "            title=\"Suggest charts\"\n",
              "            style=\"display:none;\">\n",
              "\n",
              "<svg xmlns=\"http://www.w3.org/2000/svg\" height=\"24px\"viewBox=\"0 0 24 24\"\n",
              "     width=\"24px\">\n",
              "    <g>\n",
              "        <path d=\"M19 3H5c-1.1 0-2 .9-2 2v14c0 1.1.9 2 2 2h14c1.1 0 2-.9 2-2V5c0-1.1-.9-2-2-2zM9 17H7v-7h2v7zm4 0h-2V7h2v10zm4 0h-2v-4h2v4z\"/>\n",
              "    </g>\n",
              "</svg>\n",
              "  </button>\n",
              "\n",
              "<style>\n",
              "  .colab-df-quickchart {\n",
              "      --bg-color: #E8F0FE;\n",
              "      --fill-color: #1967D2;\n",
              "      --hover-bg-color: #E2EBFA;\n",
              "      --hover-fill-color: #174EA6;\n",
              "      --disabled-fill-color: #AAA;\n",
              "      --disabled-bg-color: #DDD;\n",
              "  }\n",
              "\n",
              "  [theme=dark] .colab-df-quickchart {\n",
              "      --bg-color: #3B4455;\n",
              "      --fill-color: #D2E3FC;\n",
              "      --hover-bg-color: #434B5C;\n",
              "      --hover-fill-color: #FFFFFF;\n",
              "      --disabled-bg-color: #3B4455;\n",
              "      --disabled-fill-color: #666;\n",
              "  }\n",
              "\n",
              "  .colab-df-quickchart {\n",
              "    background-color: var(--bg-color);\n",
              "    border: none;\n",
              "    border-radius: 50%;\n",
              "    cursor: pointer;\n",
              "    display: none;\n",
              "    fill: var(--fill-color);\n",
              "    height: 32px;\n",
              "    padding: 0;\n",
              "    width: 32px;\n",
              "  }\n",
              "\n",
              "  .colab-df-quickchart:hover {\n",
              "    background-color: var(--hover-bg-color);\n",
              "    box-shadow: 0 1px 2px rgba(60, 64, 67, 0.3), 0 1px 3px 1px rgba(60, 64, 67, 0.15);\n",
              "    fill: var(--button-hover-fill-color);\n",
              "  }\n",
              "\n",
              "  .colab-df-quickchart-complete:disabled,\n",
              "  .colab-df-quickchart-complete:disabled:hover {\n",
              "    background-color: var(--disabled-bg-color);\n",
              "    fill: var(--disabled-fill-color);\n",
              "    box-shadow: none;\n",
              "  }\n",
              "\n",
              "  .colab-df-spinner {\n",
              "    border: 2px solid var(--fill-color);\n",
              "    border-color: transparent;\n",
              "    border-bottom-color: var(--fill-color);\n",
              "    animation:\n",
              "      spin 1s steps(1) infinite;\n",
              "  }\n",
              "\n",
              "  @keyframes spin {\n",
              "    0% {\n",
              "      border-color: transparent;\n",
              "      border-bottom-color: var(--fill-color);\n",
              "      border-left-color: var(--fill-color);\n",
              "    }\n",
              "    20% {\n",
              "      border-color: transparent;\n",
              "      border-left-color: var(--fill-color);\n",
              "      border-top-color: var(--fill-color);\n",
              "    }\n",
              "    30% {\n",
              "      border-color: transparent;\n",
              "      border-left-color: var(--fill-color);\n",
              "      border-top-color: var(--fill-color);\n",
              "      border-right-color: var(--fill-color);\n",
              "    }\n",
              "    40% {\n",
              "      border-color: transparent;\n",
              "      border-right-color: var(--fill-color);\n",
              "      border-top-color: var(--fill-color);\n",
              "    }\n",
              "    60% {\n",
              "      border-color: transparent;\n",
              "      border-right-color: var(--fill-color);\n",
              "    }\n",
              "    80% {\n",
              "      border-color: transparent;\n",
              "      border-right-color: var(--fill-color);\n",
              "      border-bottom-color: var(--fill-color);\n",
              "    }\n",
              "    90% {\n",
              "      border-color: transparent;\n",
              "      border-bottom-color: var(--fill-color);\n",
              "    }\n",
              "  }\n",
              "</style>\n",
              "\n",
              "  <script>\n",
              "    async function quickchart(key) {\n",
              "      const quickchartButtonEl =\n",
              "        document.querySelector('#' + key + ' button');\n",
              "      quickchartButtonEl.disabled = true;  // To prevent multiple clicks.\n",
              "      quickchartButtonEl.classList.add('colab-df-spinner');\n",
              "      try {\n",
              "        const charts = await google.colab.kernel.invokeFunction(\n",
              "            'suggestCharts', [key], {});\n",
              "      } catch (error) {\n",
              "        console.error('Error during call to suggestCharts:', error);\n",
              "      }\n",
              "      quickchartButtonEl.classList.remove('colab-df-spinner');\n",
              "      quickchartButtonEl.classList.add('colab-df-quickchart-complete');\n",
              "    }\n",
              "    (() => {\n",
              "      let quickchartButtonEl =\n",
              "        document.querySelector('#df-043e1431-9b24-4cb8-bad3-44078fc7e750 button');\n",
              "      quickchartButtonEl.style.display =\n",
              "        google.colab.kernel.accessAllowed ? 'block' : 'none';\n",
              "    })();\n",
              "  </script>\n",
              "</div>\n",
              "\n",
              "    </div>\n",
              "  </div>\n"
            ],
            "application/vnd.google.colaboratory.intrinsic+json": {
              "type": "dataframe",
              "summary": "{\n  \"name\": \"df\",\n  \"rows\": 8,\n  \"fields\": [\n    {\n      \"column\": \"Visitors\",\n      \"properties\": {\n        \"dtype\": \"number\",\n        \"std\": 348602.6500703327,\n        \"min\": 1108.0,\n        \"max\": 999982.0,\n        \"num_unique_values\": 8,\n        \"samples\": [\n          501016.0894974119,\n          500831.0,\n          5989.0\n        ],\n        \"semantic_type\": \"\",\n        \"description\": \"\"\n      }\n    },\n    {\n      \"column\": \"Rating\",\n      \"properties\": {\n        \"dtype\": \"number\",\n        \"std\": 2116.4626873182497,\n        \"min\": 1.0,\n        \"max\": 5989.0,\n        \"num_unique_values\": 8,\n        \"samples\": [\n          3.0093471364167645,\n          3.0,\n          5989.0\n        ],\n        \"semantic_type\": \"\",\n        \"description\": \"\"\n      }\n    },\n    {\n      \"column\": \"Revenue\",\n      \"properties\": {\n        \"dtype\": \"number\",\n        \"std\": 347316.69175586535,\n        \"min\": 1025.81,\n        \"max\": 999999.49,\n        \"num_unique_values\": 8,\n        \"samples\": [\n          499479.3672532978,\n          494169.35,\n          5989.0\n        ],\n        \"semantic_type\": \"\",\n        \"description\": \"\"\n      }\n    }\n  ]\n}"
            }
          },
          "metadata": {},
          "execution_count": 45
        }
      ]
    },
    {
      "cell_type": "markdown",
      "source": [
        "**Menampilkan informasi tentang DataFrame di dalam pandas**"
      ],
      "metadata": {
        "id": "OyT82_Oqu859"
      }
    },
    {
      "cell_type": "code",
      "source": [
        "df.info()"
      ],
      "metadata": {
        "colab": {
          "base_uri": "https://localhost:8080/"
        },
        "id": "qnfPAa15cqHL",
        "outputId": "56e7dffb-083e-4508-9609-15fc4afb266e"
      },
      "execution_count": null,
      "outputs": [
        {
          "output_type": "stream",
          "name": "stdout",
          "text": [
            "<class 'pandas.core.frame.DataFrame'>\n",
            "RangeIndex: 5989 entries, 0 to 5988\n",
            "Data columns (total 7 columns):\n",
            " #   Column                   Non-Null Count  Dtype  \n",
            "---  ------                   --------------  -----  \n",
            " 0   Location                 5989 non-null   object \n",
            " 1   Country                  5989 non-null   object \n",
            " 2   Category                 5989 non-null   object \n",
            " 3   Visitors                 5989 non-null   int64  \n",
            " 4   Rating                   5989 non-null   float64\n",
            " 5   Revenue                  5989 non-null   float64\n",
            " 6   Accommodation_Available  5989 non-null   object \n",
            "dtypes: float64(2), int64(1), object(4)\n",
            "memory usage: 327.6+ KB\n"
          ]
        }
      ]
    },
    {
      "cell_type": "markdown",
      "source": [
        "**1. Tampilkan rata-rata, standar deviasi, nilai minimum, nilai maksimum, Q1, Q2, dan Q3 dari attribute bertipe angka.**"
      ],
      "metadata": {
        "id": "9MNzeaLmc-fQ"
      }
    },
    {
      "cell_type": "code",
      "source": [
        "# Memilih kolom numerik saja\n",
        "df_numerik = df.select_dtypes(include=['number'])\n",
        "\n",
        "# Menghitung statistik deskriptif untuk kolom numerik\n",
        "statistik_deskriptif = df_numerik.describe()\n",
        "\n",
        "# Mengambil statistik yang diperlukan\n",
        "rata_rata = df_numerik.mean()  # Rata-rata\n",
        "std_deviasi = df_numerik.std()  # Standar deviasi\n",
        "nilai_minimum = df_numerik.min()  # Nilai minimum\n",
        "q1 = df_numerik.quantile(0.25)  # Kuartil pertama (Q1)\n",
        "median = df_numerik.median()  # Median (Q2)\n",
        "q3 = df_numerik.quantile(0.75)  # Kuartil ketiga (Q3)\n",
        "nilai_maksimum = df_numerik.max()  # Nilai maksimum\n",
        "\n",
        "# Membuat DataFrame untuk hasil\n",
        "tabel_statistik = pd.DataFrame({\n",
        "    'Rata-rata': rata_rata,\n",
        "    'Standar Deviasi': std_deviasi,\n",
        "    'Nilai Minimum': nilai_minimum,\n",
        "    'Q1': q1,\n",
        "    'Median (Q2)': median,\n",
        "    'Q3': q3,\n",
        "    'Nilai Maksimum': nilai_maksimum\n",
        "})\n",
        "\n",
        "# Menampilkan hasil\n",
        "pd.set_option('display.colheader_justify', 'center')  # Menyesuaikan lebar tampilan\n",
        "print(tabel_statistik)\n",
        "\n",
        "\n"
      ],
      "metadata": {
        "colab": {
          "base_uri": "https://localhost:8080/"
        },
        "id": "OOGLe2PgeC10",
        "outputId": "b60a3a47-93e7-471e-de16-2287b581fa03"
      },
      "execution_count": null,
      "outputs": [
        {
          "output_type": "stream",
          "name": "stdout",
          "text": [
            "            Rata-rata    Standar Deviasi  Nilai Minimum     Q1      \\\n",
            "Visitors  501016.089497   289783.294978      1108.00     252789.00   \n",
            "Rating         3.009347        1.155980         1.00          2.01   \n",
            "Revenue   499479.367253   286743.225211      1025.81     251410.45   \n",
            "\n",
            "          Median (Q2)     Q3      Nilai Maksimum  \n",
            "Visitors   500831.00   751371.00     999982.00    \n",
            "Rating          3.00        4.01          5.00    \n",
            "Revenue    494169.35   742241.24     999999.49    \n"
          ]
        }
      ]
    },
    {
      "cell_type": "markdown",
      "source": [
        "**2. Tampilkan 10 record pertama dari dataset dengan attribute bertipe angka.**"
      ],
      "metadata": {
        "id": "ZVGP63cxiP8R"
      }
    },
    {
      "cell_type": "code",
      "source": [
        "# Memilih kolom numerik saja\n",
        "df_numerik = df.select_dtypes(include='number')\n",
        "\n",
        "# Menampilkan 10 record pertama\n",
        "print(df_numerik.head(10))"
      ],
      "metadata": {
        "colab": {
          "base_uri": "https://localhost:8080/"
        },
        "id": "DZYRAy7YinWk",
        "outputId": "d224fe54-0f60-447c-9ffb-2a2188625317"
      },
      "execution_count": null,
      "outputs": [
        {
          "output_type": "stream",
          "name": "stdout",
          "text": [
            "   Visitors  Rating   Revenue \n",
            "0   948853    1.32    84388.38\n",
            "1   813627    2.01   802625.60\n",
            "2   508673    1.42   338777.11\n",
            "3   623329    1.09   295183.60\n",
            "4   124867    1.43   547893.24\n",
            "5   389886    2.19   943411.34\n",
            "6   416933    3.92   744983.22\n",
            "7   652046    2.50   796172.02\n",
            "8    59309    4.10   588988.55\n",
            "9   319068    1.98   239590.44\n"
          ]
        }
      ]
    },
    {
      "cell_type": "markdown",
      "source": [
        "**3. Tampilkan informasi jumlah record, jumlah attribute, nama attribute, jumlah attribute dengan tipe angka.**"
      ],
      "metadata": {
        "id": "7CM7gUe_jdeH"
      }
    },
    {
      "cell_type": "code",
      "source": [
        "# Informasi dasar\n",
        "jumlah_record = df.shape[0]  # Jumlah record\n",
        "jumlah_attribute = df.shape[1]  # Jumlah atribut\n",
        "nama_attribute = df.columns.tolist()  # Nama atribut\n",
        "jumlah_attribute_numerik = df.select_dtypes(include='number').shape[1]  # Jumlah atribut bertipe angka\n",
        "\n",
        "# Membuat tabel dengan PrettyTable\n",
        "tabel_info = PrettyTable()\n",
        "tabel_info.field_names = [\"Jumlah Record\", \"Jumlah Attribute\", \"Nama Attribute\", \"Jumlah Attribute Dengan Tipe Angka\"]\n",
        "\n",
        "# Menambahkan baris pertama dengan informasi umum\n",
        "tabel_info.add_row([jumlah_record, jumlah_attribute, \"\", jumlah_attribute_numerik])\n",
        "\n",
        "# Menambahkan baris untuk setiap nama atribut\n",
        "for attr in nama_attribute:\n",
        "    tabel_info.add_row([\"\", \"\", attr, \"\"])\n",
        "\n",
        "# Menampilkan tabel\n",
        "print(tabel_info)"
      ],
      "metadata": {
        "colab": {
          "base_uri": "https://localhost:8080/"
        },
        "id": "xIE1hj1KjggB",
        "outputId": "39c43209-3805-4aa6-edad-31c42379c461"
      },
      "execution_count": null,
      "outputs": [
        {
          "output_type": "stream",
          "name": "stdout",
          "text": [
            "+---------------+------------------+-------------------------+------------------------------------+\n",
            "| Jumlah Record | Jumlah Attribute |      Nama Attribute     | Jumlah Attribute Dengan Tipe Angka |\n",
            "+---------------+------------------+-------------------------+------------------------------------+\n",
            "|      5989     |        7         |                         |                 3                  |\n",
            "|               |                  |         Location        |                                    |\n",
            "|               |                  |         Country         |                                    |\n",
            "|               |                  |         Category        |                                    |\n",
            "|               |                  |         Visitors        |                                    |\n",
            "|               |                  |          Rating         |                                    |\n",
            "|               |                  |         Revenue         |                                    |\n",
            "|               |                  | Accommodation_Available |                                    |\n",
            "+---------------+------------------+-------------------------+------------------------------------+\n"
          ]
        }
      ]
    },
    {
      "cell_type": "markdown",
      "source": [
        "**4. Tampilkan jumlah label dari semua attribute yang bernilai object.**"
      ],
      "metadata": {
        "id": "D_6_xE8olZqN"
      }
    },
    {
      "cell_type": "code",
      "source": [
        "# Memilih kolom object saja\n",
        "df_object = df.select_dtypes(include='object')\n",
        "\n",
        "# Menghitung jumlah label untuk setiap kolom bertipe object\n",
        "jumlah_label = df_object.nunique()\n",
        "\n",
        "# Menampilkan hasil attribute yang bernilai object\n",
        "table = PrettyTable()\n",
        "table.field_names = [\"Nama Attribute\", \"Jumlah Label\"]\n",
        "\n",
        "# Menambahkan jumlah label ke tabel\n",
        "for attr, count in jumlah_label.items():\n",
        "    table.add_row([attr, count])\n",
        "\n",
        "print(table)"
      ],
      "metadata": {
        "colab": {
          "base_uri": "https://localhost:8080/"
        },
        "id": "wBbvtoEyleHj",
        "outputId": "d1919a8e-ead0-4463-c6cc-b40224cc4a9e"
      },
      "execution_count": null,
      "outputs": [
        {
          "output_type": "stream",
          "name": "stdout",
          "text": [
            "+-------------------------+--------------+\n",
            "|      Nama Attribute     | Jumlah Label |\n",
            "+-------------------------+--------------+\n",
            "|         Location        |     5989     |\n",
            "|         Country         |      7       |\n",
            "|         Category        |      6       |\n",
            "| Accommodation_Available |      2       |\n",
            "+-------------------------+--------------+\n"
          ]
        }
      ]
    },
    {
      "cell_type": "markdown",
      "source": [
        "**5. Visualisasikan dataset dengan salah satu grafik. Disini saya menggunakan grafik batang**"
      ],
      "metadata": {
        "id": "kgdXw5z3nVxj"
      }
    },
    {
      "cell_type": "code",
      "source": [
        "# Menghitung rata-rata jumlah pengunjung berdasarkan kategori\n",
        "data = df.groupby('Category')['Visitors'].mean()\n",
        "\n",
        "# Membuat grafik batang\n",
        "x = data.index\n",
        "y = data.values\n",
        "plt.bar(x, y, color=['green', 'blue', 'yellow', 'red', 'black', 'pink'])\n",
        "plt.title('Rata-rata Jumlah Pengunjung Berdasarkan Kategori Wisata')\n",
        "plt.xlabel('Kategori Wisata')\n",
        "plt.ylabel('Rata-rata Jumlah Pengunjung')\n",
        "plt.xticks(rotation=45)  # Memutar label sumbu X agar lebih terbaca\n",
        "plt.tight_layout()  # Menyesuaikan layout\n",
        "plt.show() # Menampilkan grafik batang"
      ],
      "metadata": {
        "colab": {
          "base_uri": "https://localhost:8080/",
          "height": 487
        },
        "id": "ENfzrUXXnX7N",
        "outputId": "e871aea9-1f46-41e4-bceb-d6d6982152d6"
      },
      "execution_count": null,
      "outputs": [
        {
          "output_type": "display_data",
          "data": {
            "text/plain": [
              "<Figure size 640x480 with 1 Axes>"
            ],
            "image/png": "[encoded data removed]"
          },
          "metadata": {}
        }
      ]
    },
    {
      "cell_type": "markdown",
      "source": [
        "**6. Tampilkan korelasi dataset menggunakan heatmap**"
      ],
      "metadata": {
        "id": "ot1tQCFmsgpp"
      }
    },
    {
      "cell_type": "code",
      "source": [
        "# Menghitung korelasi\n",
        "cor_matrix = df_numerik.corr()\n",
        "\n",
        "# Membuat heatmap\n",
        "plt.figure(figsize=(10, 8))\n",
        "sns.heatmap(cor_matrix, cmap='coolwarm', annot=True, center=0)\n",
        "plt.title('Heatmap Korelasi Dataset')\n",
        "plt.show()"
      ],
      "metadata": {
        "colab": {
          "base_uri": "https://localhost:8080/",
          "height": 699
        },
        "id": "An0OqDPqrqf8",
        "outputId": "faf754b6-16e4-4f87-e0f1-14640811be46"
      },
      "execution_count": null,
      "outputs": [
        {
          "output_type": "display_data",
          "data": {
            "text/plain": [
              "<Figure size 1000x800 with 2 Axes>"
            ],
            "image/png": "[encoded data removed]"
          },
          "metadata": {}
        }
      ]
    },
    {
      "cell_type": "markdown",
      "source": [
        "**7. Tulis kesimpulan dari hasil analisis dan visualisasi data. Tulis pada cell  Markdown**"
      ],
      "metadata": {
        "id": "aEPi-HUasmJu"
      }
    },
    {
      "cell_type": "markdown",
      "source": [
        "## Kesimpulan\n",
        "\n",
        "1. **Statistik Deskriptif**:\n",
        "   - Dataset berisi **5989** record dengan **7** atribut.\n",
        "   - Atribut bertipe numerik meliputi **Visitors**, **Rating**, dan **Revenue**, dengan rata-rata jumlah pengunjung sekitar **501016**, rating rata-rata **3.01**, dan pendapatan rata-rata sekitar **499479**.\n",
        "   - Nilai maksimum untuk jumlah pengunjung mencapai **999982**, sementara rating tertinggi adalah **5.0**.\n",
        "\n",
        "2. **Visualisasi Rata-rata Jumlah Pengunjung**:\n",
        "   - Grafik batang menunjukkan rata-rata jumlah pengunjung berdasarkan kategori wisata. Beberapa kategori menunjukkan popularitas yang lebih tinggi, yang dapat digunakan untuk mengarahkan upaya pemasaran dan pengembangan produk wisata.\n",
        "\n",
        "3. **Korelasi Antara Atribut**:\n",
        "   - Heatmap korelasi menunjukkan hubungan yang signifikan antara atribut numerik. Misalnya, terdapat kemungkinan korelasi positif antara **Visitors** dan **Revenue**, yang menunjukkan bahwa peningkatan jumlah pengunjung berpotensi meningkatkan pendapatan.\n",
        "\n",
        "4. **Data Kategorikal**:\n",
        "   - Atribut bertipe `object` memberikan wawasan tentang karakteristik pengunjung, seperti **Location**, **Country**, dan **Category**. Menghitung jumlah label unik dalam atribut ini dapat membantu dalam memahami segmentasi pasar dan preferensi pengunjung.\n",
        "\n",
        "5. **Rekomendasi**:\n",
        "   - Berdasarkan analisis ini, disarankan untuk fokus pada kategori wisata yang paling banyak menarik pengunjung untuk meningkatkan strategi pemasaran.\n",
        "  \n"
      ],
      "metadata": {
        "id": "8eCV4VLUtTL1"
      }
    },
    {
      "cell_type": "markdown",
      "source": [
        "# POSTTEST 3 KECERDASAN BUATAN\n",
        "\n",
        "**NIM**  **:** **2209106086**\n",
        "\n",
        "**NAMA** **:** **AGUSTINA**\n",
        "\n",
        "**KELAS** **:** **INFORMATIKA B2 2022**"
      ],
      "metadata": {
        "id": "c615DHXn_SjP"
      }
    },
    {
      "cell_type": "markdown",
      "source": [
        "**Pertama import library yang dibutuhkan**"
      ],
      "metadata": {
        "id": "wcT63k5JsZ8q"
      }
    },
    {
      "cell_type": "code",
      "source": [
        "import pandas as pd\n",
        "from prettytable import PrettyTable\n",
        "import matplotlib.pyplot as plt\n",
        "import seaborn as sns\n",
        "from sklearn.preprocessing import MinMaxScaler\n",
        "from sklearn.impute import SimpleImputer\n",
        "df = pd.read_csv('/content/sample_data/tourism_dataset.csv')"
      ],
      "metadata": {
        "id": "eSfAeLvU_W4O"
      },
      "execution_count": null,
      "outputs": []
    },
    {
      "cell_type": "markdown",
      "source": [
        "# **1.DATA CLEANING**"
      ],
      "metadata": {
        "id": "-cKZxgWFzftf"
      }
    },
    {
      "cell_type": "markdown",
      "source": [
        "**Data Cleaning, sebelum melakukan data cleaning lakukan pengecekan missing value terlebih dahulu**\n",
        "\n",
        "- **Handling missing value (jika ada)**\n",
        "\n",
        "- **Handling duplicate value (jika ada)**\n",
        "\n",
        "- **Handling outlier (jika ada)**"
      ],
      "metadata": {
        "id": "i1lVrn3oW6X-"
      }
    },
    {
      "cell_type": "code",
      "source": [
        "#melihat jumlah missing value di masing-masing kolom\n",
        "df.isnull().sum()"
      ],
      "metadata": {
        "colab": {
          "base_uri": "https://localhost:8080/",
          "height": 304
        },
        "id": "fcscCBf0vjYl",
        "outputId": "9723f5f5-631d-4ec8-ba1a-606f5a4e1660"
      },
      "execution_count": null,
      "outputs": [
        {
          "output_type": "execute_result",
          "data": {
            "text/plain": [
              "Location                   0\n",
              "Country                    0\n",
              "Category                   0\n",
              "Visitors                   0\n",
              "Rating                     0\n",
              "Revenue                    0\n",
              "Accommodation_Available    0\n",
              "dtype: int64"
            ],
            "text/html": [
              "<div>\n",
              "<style scoped>\n",
              "    .dataframe tbody tr th:only-of-type {\n",
              "        vertical-align: middle;\n",
              "    }\n",
              "\n",
              "    .dataframe tbody tr th {\n",
              "        vertical-align: top;\n",
              "    }\n",
              "\n",
              "    .dataframe thead th {\n",
              "        text-align: right;\n",
              "    }\n",
              "</style>\n",
              "<table border=\"1\" class=\"dataframe\">\n",
              "  <thead>\n",
              "    <tr style=\"text-align: center;\">\n",
              "      <th></th>\n",
              "      <th>0</th>\n",
              "    </tr>\n",
              "  </thead>\n",
              "  <tbody>\n",
              "    <tr>\n",
              "      <th>Location</th>\n",
              "      <td>0</td>\n",
              "    </tr>\n",
              "    <tr>\n",
              "      <th>Country</th>\n",
              "      <td>0</td>\n",
              "    </tr>\n",
              "    <tr>\n",
              "      <th>Category</th>\n",
              "      <td>0</td>\n",
              "    </tr>\n",
              "    <tr>\n",
              "      <th>Visitors</th>\n",
              "      <td>0</td>\n",
              "    </tr>\n",
              "    <tr>\n",
              "      <th>Rating</th>\n",
              "      <td>0</td>\n",
              "    </tr>\n",
              "    <tr>\n",
              "      <th>Revenue</th>\n",
              "      <td>0</td>\n",
              "    </tr>\n",
              "    <tr>\n",
              "      <th>Accommodation_Available</th>\n",
              "      <td>0</td>\n",
              "    </tr>\n",
              "  </tbody>\n",
              "</table>\n",
              "</div><br><label><b>dtype:</b> int64</label>"
            ]
          },
          "metadata": {},
          "execution_count": 54
        }
      ]
    },
    {
      "cell_type": "markdown",
      "source": [
        "### **1.Tidak ada data yang missing value**"
      ],
      "metadata": {
        "id": "x7xJVE-EfXwi"
      }
    },
    {
      "cell_type": "markdown",
      "source": [
        "### **2.Duplicate Data**"
      ],
      "metadata": {
        "id": "6S3-VtbRv3lM"
      }
    },
    {
      "cell_type": "code",
      "source": [
        "# Melihat jumlah duplicate value\n",
        "duplicate = df.duplicated().sum()\n",
        "print('Jumlah nilai duplikat pada data: ', duplicate)"
      ],
      "metadata": {
        "colab": {
          "base_uri": "https://localhost:8080/"
        },
        "id": "I7dWuaqgXJmA",
        "outputId": "4c933c06-9b26-43cd-bd87-3c6a258a2275"
      },
      "execution_count": null,
      "outputs": [
        {
          "output_type": "stream",
          "name": "stdout",
          "text": [
            "Jumlah nilai duplikat pada data:  0\n"
          ]
        }
      ]
    },
    {
      "cell_type": "markdown",
      "source": [
        "**tidak ada data yang terduplicate**"
      ],
      "metadata": {
        "id": "7jkeqyf-wK_T"
      }
    },
    {
      "cell_type": "markdown",
      "source": [
        "### **3.Handling Outlier**"
      ],
      "metadata": {
        "id": "twzh4lIPwNjH"
      }
    },
    {
      "cell_type": "markdown",
      "source": [
        "**Sebelum melakukan handling outlier harus dilakukan dulu pengecekan outlier menggunakan boxplot seperti code dibawah ini**"
      ],
      "metadata": {
        "id": "ZbV7tqJRxlRK"
      }
    },
    {
      "cell_type": "code",
      "source": [
        "fig, ax = plt.subplots(figsize=(2,3)) #untuk frame/figure\n",
        "sns.boxplot(df['Rating']) #untuk boxplot"
      ],
      "metadata": {
        "colab": {
          "base_uri": "https://localhost:8080/",
          "height": 289
        },
        "id": "2rrBcrv3XjR8",
        "outputId": "69aea18e-d220-4ea6-a2b4-e1ec249c8c82"
      },
      "execution_count": null,
      "outputs": [
        {
          "output_type": "execute_result",
          "data": {
            "text/plain": [
              "<Axes: ylabel='Rating'>"
            ]
          },
          "metadata": {},
          "execution_count": 56
        },
        {
          "output_type": "display_data",
          "data": {
            "text/plain": [
              "<Figure size 200x300 with 1 Axes>"
            ],
            "image/png": "[encoded data removed]"
          },
          "metadata": {}
        }
      ]
    },
    {
      "cell_type": "code",
      "source": [
        "import numpy as np\n",
        "from scipy import stats"
      ],
      "metadata": {
        "id": "J0Tkg5f_YPxV"
      },
      "execution_count": null,
      "outputs": []
    },
    {
      "cell_type": "code",
      "source": [
        "#sebelum handling oulier\n",
        "fig, axes = plt.subplots(1,2, figsize=(5,3))\n",
        "plt.tight_layout()\n",
        "sns.boxplot(df['Rating'],orient='v',ax=axes[0])\n",
        "axes[0].title.set_text(\"Sebelum\")\n",
        "# Menghitung Z-Score\n",
        "df['Rating'] = df['Rating'][(np.abs(stats.zscore(df['Rating'])) <\n",
        "3)]\n",
        "#setelah handling oulier\n",
        "sns.boxplot(df['Rating'],orient='v',ax=axes[1])\n",
        "axes[1].title.set_text(\"Sesudah\")\n",
        "plt.show()"
      ],
      "metadata": {
        "colab": {
          "base_uri": "https://localhost:8080/",
          "height": 304
        },
        "id": "j71i6ygSYSmS",
        "outputId": "486cea24-2e87-4d83-e795-390fc9b76eff"
      },
      "execution_count": null,
      "outputs": [
        {
          "output_type": "display_data",
          "data": {
            "text/plain": [
              "<Figure size 500x300 with 2 Axes>"
            ],
            "image/png": "[encoded data removed]"
          },
          "metadata": {}
        }
      ]
    },
    {
      "cell_type": "markdown",
      "source": [
        "Ini hasil dari handling outlier menggunakan metode Z-Score di kolom Rating, yang dimana pada kolom tersebut sudah tersusun maka hasil sebelum dan sesudahnya adalah sama"
      ],
      "metadata": {
        "id": "cq3oaPsRw0Q_"
      }
    },
    {
      "cell_type": "markdown",
      "source": [
        "# **2.DATA TRANSFORMATION**\n",
        "\n",
        "**Pada transformasi data, kita mengubah skala data kedalam bentuk lain sehingga data memiliki distribusi yang diharapkan.**"
      ],
      "metadata": {
        "id": "_cqbHlIbYrTM"
      }
    },
    {
      "cell_type": "markdown",
      "source": [
        "### **1.Normalisasi**\n",
        "Saat normalisasi ini kita menggunakan teknik penskalaan sehingga memiliki rentang dari [0, 1]\n",
        "\n",
        "Dsini kita menggunakan metode\n",
        "Min-Max Scalling."
      ],
      "metadata": {
        "id": "jbdpDCCP0gqG"
      }
    },
    {
      "cell_type": "code",
      "source": [
        "from sklearn.preprocessing import MinMaxScaler"
      ],
      "metadata": {
        "id": "VYkDPYHhYmAJ"
      },
      "execution_count": null,
      "outputs": []
    },
    {
      "cell_type": "markdown",
      "source": [
        "Setelah itu kita cek dulu data type nya dengan menggunakan df.dtypes"
      ],
      "metadata": {
        "id": "mgnD01Gc12UA"
      }
    },
    {
      "cell_type": "code",
      "source": [
        "df.dtypes"
      ],
      "metadata": {
        "colab": {
          "base_uri": "https://localhost:8080/",
          "height": 304
        },
        "id": "f1t38OvNY3QT",
        "outputId": "3673b69e-e700-4580-e2f3-86f4139a5110"
      },
      "execution_count": null,
      "outputs": [
        {
          "output_type": "execute_result",
          "data": {
            "text/plain": [
              "Location                    object\n",
              "Country                     object\n",
              "Category                    object\n",
              "Visitors                     int64\n",
              "Rating                     float64\n",
              "Revenue                    float64\n",
              "Accommodation_Available     object\n",
              "dtype: object"
            ],
            "text/html": [
              "<div>\n",
              "<style scoped>\n",
              "    .dataframe tbody tr th:only-of-type {\n",
              "        vertical-align: middle;\n",
              "    }\n",
              "\n",
              "    .dataframe tbody tr th {\n",
              "        vertical-align: top;\n",
              "    }\n",
              "\n",
              "    .dataframe thead th {\n",
              "        text-align: right;\n",
              "    }\n",
              "</style>\n",
              "<table border=\"1\" class=\"dataframe\">\n",
              "  <thead>\n",
              "    <tr style=\"text-align: center;\">\n",
              "      <th></th>\n",
              "      <th>0</th>\n",
              "    </tr>\n",
              "  </thead>\n",
              "  <tbody>\n",
              "    <tr>\n",
              "      <th>Location</th>\n",
              "      <td>object</td>\n",
              "    </tr>\n",
              "    <tr>\n",
              "      <th>Country</th>\n",
              "      <td>object</td>\n",
              "    </tr>\n",
              "    <tr>\n",
              "      <th>Category</th>\n",
              "      <td>object</td>\n",
              "    </tr>\n",
              "    <tr>\n",
              "      <th>Visitors</th>\n",
              "      <td>int64</td>\n",
              "    </tr>\n",
              "    <tr>\n",
              "      <th>Rating</th>\n",
              "      <td>float64</td>\n",
              "    </tr>\n",
              "    <tr>\n",
              "      <th>Revenue</th>\n",
              "      <td>float64</td>\n",
              "    </tr>\n",
              "    <tr>\n",
              "      <th>Accommodation_Available</th>\n",
              "      <td>object</td>\n",
              "    </tr>\n",
              "  </tbody>\n",
              "</table>\n",
              "</div><br><label><b>dtype:</b> object</label>"
            ]
          },
          "metadata": {},
          "execution_count": 60
        }
      ]
    },
    {
      "cell_type": "code",
      "source": [
        "min_max = MinMaxScaler()\n",
        "df_rat = df.copy()\n",
        "df_rat[['Visitors', 'Rating', 'Revenue']] = mm.fit_transform(df_rat[['Visitors', 'Rating', 'Revenue']])"
      ],
      "metadata": {
        "id": "w1rvZrlAY9Ck"
      },
      "execution_count": null,
      "outputs": []
    },
    {
      "cell_type": "code",
      "source": [
        "df_copy['Rating'].min()"
      ],
      "metadata": {
        "colab": {
          "base_uri": "https://localhost:8080/"
        },
        "id": "ZAyJ0NC_ZeYf",
        "outputId": "44bca5bb-7a51-495e-93f8-a0dce8740174"
      },
      "execution_count": null,
      "outputs": [
        {
          "output_type": "execute_result",
          "data": {
            "text/plain": [
              "0.0"
            ]
          },
          "metadata": {},
          "execution_count": 62
        }
      ]
    },
    {
      "cell_type": "code",
      "source": [
        "df_copy['Rating'].max()"
      ],
      "metadata": {
        "colab": {
          "base_uri": "https://localhost:8080/"
        },
        "id": "RYr8dLpcZkMI",
        "outputId": "8a2ddf35-cf0c-4a29-fc60-fbec4ce1b33e"
      },
      "execution_count": null,
      "outputs": [
        {
          "output_type": "execute_result",
          "data": {
            "text/plain": [
              "1.0"
            ]
          },
          "metadata": {},
          "execution_count": 63
        }
      ]
    },
    {
      "cell_type": "markdown",
      "source": [
        "Setelah itu untuk kita mengetahui data yang sudah kita lakukan normalisasi kita dapat menggunakan DataFrame ['nama kolom yang sudah di normalisasi'].min() / max() . Dari output kode diatas kita dapat melihat bahwa nilai max bernilai 1 dan min bernilai 0, artinya penskalaan data dengan normalisasi sudah berhasil."
      ],
      "metadata": {
        "id": "qJPY9faN2MS7"
      }
    },
    {
      "cell_type": "markdown",
      "source": [
        "### **2.Standarisasi**\n",
        "\n",
        "- Standarisasi merupakan proses menjadikan data memiliki rata-rata 0 dan\n",
        "standar deviasi 1.\n",
        "\n",
        "- Lalu import library standar scaler dari preprocessing"
      ],
      "metadata": {
        "id": "wWspdqCdZppr"
      }
    },
    {
      "cell_type": "code",
      "source": [
        "from sklearn.preprocessing import StandardScaler"
      ],
      "metadata": {
        "id": "bBiwPALjZrh5"
      },
      "execution_count": null,
      "outputs": []
    },
    {
      "cell_type": "code",
      "source": [
        "ss = StandardScaler()\n",
        "df_reven = df.copy()\n",
        "df_reven[['Visitors', 'Rating', 'Revenue']] = ss.fit_transform(df_reven[['Visitors', 'Rating', 'Revenue']])"
      ],
      "metadata": {
        "id": "b6T_ekkpZ4i-"
      },
      "execution_count": null,
      "outputs": []
    },
    {
      "cell_type": "code",
      "source": [
        "df_copy2['Revenue'].std()"
      ],
      "metadata": {
        "colab": {
          "base_uri": "https://localhost:8080/"
        },
        "id": "lMZ5iWYhaLwA",
        "outputId": "12f1e2ae-7118-49e2-fdf6-fcf495316b5c"
      },
      "execution_count": null,
      "outputs": [
        {
          "output_type": "execute_result",
          "data": {
            "text/plain": [
              "1.0000834968481396"
            ]
          },
          "metadata": {},
          "execution_count": 66
        }
      ]
    },
    {
      "cell_type": "markdown",
      "source": [
        "Setelah itu untuk kita mengetahui data yang sudah kita lakukan standarisasi kita dapat menggunakan df['nama kolom yang sudah di standarisasi'].std() . Dari output kode diatas kita dapat melihat bahwa standar deviasi bernilai 1, artinya penskalaan data dengan standarisasi sudah berhasil."
      ],
      "metadata": {
        "id": "aJOp_o_83m-i"
      }
    },
    {
      "cell_type": "markdown",
      "source": [
        "# **Encoding**"
      ],
      "metadata": {
        "id": "bjTDs_VlaTA2"
      }
    },
    {
      "cell_type": "markdown",
      "source": [
        "### **1.Ordinal**\n",
        "Sebelum melakukan ordinal encoding kita perlu mengimport OrdinalEncoder dari sklearn.preprocessing terlebih dahulu. Lalu di bagian ini kita akan mengubah nilai category menjadi bilangan bulat."
      ],
      "metadata": {
        "id": "U8wExbzWcH6B"
      }
    },
    {
      "cell_type": "code",
      "source": [
        "from sklearn.preprocessing import OrdinalEncoder"
      ],
      "metadata": {
        "id": "s4KjPOtDaWcS"
      },
      "execution_count": null,
      "outputs": []
    },
    {
      "cell_type": "code",
      "source": [
        "OE = OrdinalEncoder()\n",
        "df[['Category']] = OE.fit_transform(df[['Category']])"
      ],
      "metadata": {
        "id": "0KjEX2-saZRj"
      },
      "execution_count": null,
      "outputs": []
    },
    {
      "cell_type": "code",
      "source": [
        "df['Category'].value_counts()"
      ],
      "metadata": {
        "colab": {
          "base_uri": "https://localhost:8080/",
          "height": 304
        },
        "id": "2cAg8LvvamwC",
        "outputId": "f75322f1-de43-4d0e-f524-09a510136419"
      },
      "execution_count": null,
      "outputs": [
        {
          "output_type": "execute_result",
          "data": {
            "text/plain": [
              "Category\n",
              "0.0    1037\n",
              "5.0    1006\n",
              "2.0     998\n",
              "1.0     998\n",
              "3.0     994\n",
              "4.0     956\n",
              "Name: count, dtype: int64"
            ],
            "text/html": [
              "<div>\n",
              "<style scoped>\n",
              "    .dataframe tbody tr th:only-of-type {\n",
              "        vertical-align: middle;\n",
              "    }\n",
              "\n",
              "    .dataframe tbody tr th {\n",
              "        vertical-align: top;\n",
              "    }\n",
              "\n",
              "    .dataframe thead th {\n",
              "        text-align: right;\n",
              "    }\n",
              "</style>\n",
              "<table border=\"1\" class=\"dataframe\">\n",
              "  <thead>\n",
              "    <tr style=\"text-align: center;\">\n",
              "      <th></th>\n",
              "      <th>count</th>\n",
              "    </tr>\n",
              "    <tr>\n",
              "      <th>Category</th>\n",
              "      <th></th>\n",
              "    </tr>\n",
              "  </thead>\n",
              "  <tbody>\n",
              "    <tr>\n",
              "      <th>0.0</th>\n",
              "      <td>1037</td>\n",
              "    </tr>\n",
              "    <tr>\n",
              "      <th>5.0</th>\n",
              "      <td>1006</td>\n",
              "    </tr>\n",
              "    <tr>\n",
              "      <th>2.0</th>\n",
              "      <td>998</td>\n",
              "    </tr>\n",
              "    <tr>\n",
              "      <th>1.0</th>\n",
              "      <td>998</td>\n",
              "    </tr>\n",
              "    <tr>\n",
              "      <th>3.0</th>\n",
              "      <td>994</td>\n",
              "    </tr>\n",
              "    <tr>\n",
              "      <th>4.0</th>\n",
              "      <td>956</td>\n",
              "    </tr>\n",
              "  </tbody>\n",
              "</table>\n",
              "</div><br><label><b>dtype:</b> int64</label>"
            ]
          },
          "metadata": {},
          "execution_count": 69
        }
      ]
    },
    {
      "cell_type": "code",
      "source": [
        "df.head()"
      ],
      "metadata": {
        "colab": {
          "base_uri": "https://localhost:8080/",
          "height": 206
        },
        "id": "usbYGMAAasEv",
        "outputId": "be41acd8-6da4-423f-81f0-ed362f64b56a"
      },
      "execution_count": null,
      "outputs": [
        {
          "output_type": "execute_result",
          "data": {
            "text/plain": [
              "    Location  Country  Category  Visitors  Rating   Revenue   \\\n",
              "0  kuBZRkVsAR   India     4.0     948853    1.32    84388.38   \n",
              "1  aHKUXhjzTo     USA     3.0     813627    2.01   802625.60   \n",
              "2  dlrdYtJFTA  Brazil     4.0     508673    1.42   338777.11   \n",
              "3  DxmlzdGkHK  Brazil     3.0     623329    1.09   295183.60   \n",
              "4  WJCCQlepnz  France     2.0     124867    1.43   547893.24   \n",
              "\n",
              "  Accommodation_Available  \n",
              "0            Yes           \n",
              "1             No           \n",
              "2            Yes           \n",
              "3            Yes           \n",
              "4             No           "
            ],
            "text/html": [
              "\n",
              "  <div id=\"df-2bfe055f-d11f-4cec-bdd8-b80530fb66a3\" class=\"colab-df-container\">\n",
              "    <div>\n",
              "<style scoped>\n",
              "    .dataframe tbody tr th:only-of-type {\n",
              "        vertical-align: middle;\n",
              "    }\n",
              "\n",
              "    .dataframe tbody tr th {\n",
              "        vertical-align: top;\n",
              "    }\n",
              "\n",
              "    .dataframe thead th {\n",
              "        text-align: right;\n",
              "    }\n",
              "</style>\n",
              "<table border=\"1\" class=\"dataframe\">\n",
              "  <thead>\n",
              "    <tr style=\"text-align: center;\">\n",
              "      <th></th>\n",
              "      <th>Location</th>\n",
              "      <th>Country</th>\n",
              "      <th>Category</th>\n",
              "      <th>Visitors</th>\n",
              "      <th>Rating</th>\n",
              "      <th>Revenue</th>\n",
              "      <th>Accommodation_Available</th>\n",
              "    </tr>\n",
              "  </thead>\n",
              "  <tbody>\n",
              "    <tr>\n",
              "      <th>0</th>\n",
              "      <td>kuBZRkVsAR</td>\n",
              "      <td>India</td>\n",
              "      <td>4.0</td>\n",
              "      <td>948853</td>\n",
              "      <td>1.32</td>\n",
              "      <td>84388.38</td>\n",
              "      <td>Yes</td>\n",
              "    </tr>\n",
              "    <tr>\n",
              "      <th>1</th>\n",
              "      <td>aHKUXhjzTo</td>\n",
              "      <td>USA</td>\n",
              "      <td>3.0</td>\n",
              "      <td>813627</td>\n",
              "      <td>2.01</td>\n",
              "      <td>802625.60</td>\n",
              "      <td>No</td>\n",
              "    </tr>\n",
              "    <tr>\n",
              "      <th>2</th>\n",
              "      <td>dlrdYtJFTA</td>\n",
              "      <td>Brazil</td>\n",
              "      <td>4.0</td>\n",
              "      <td>508673</td>\n",
              "      <td>1.42</td>\n",
              "      <td>338777.11</td>\n",
              "      <td>Yes</td>\n",
              "    </tr>\n",
              "    <tr>\n",
              "      <th>3</th>\n",
              "      <td>DxmlzdGkHK</td>\n",
              "      <td>Brazil</td>\n",
              "      <td>3.0</td>\n",
              "      <td>623329</td>\n",
              "      <td>1.09</td>\n",
              "      <td>295183.60</td>\n",
              "      <td>Yes</td>\n",
              "    </tr>\n",
              "    <tr>\n",
              "      <th>4</th>\n",
              "      <td>WJCCQlepnz</td>\n",
              "      <td>France</td>\n",
              "      <td>2.0</td>\n",
              "      <td>124867</td>\n",
              "      <td>1.43</td>\n",
              "      <td>547893.24</td>\n",
              "      <td>No</td>\n",
              "    </tr>\n",
              "  </tbody>\n",
              "</table>\n",
              "</div>\n",
              "    <div class=\"colab-df-buttons\">\n",
              "\n",
              "  <div class=\"colab-df-container\">\n",
              "    <button class=\"colab-df-convert\" onclick=\"convertToInteractive('df-2bfe055f-d11f-4cec-bdd8-b80530fb66a3')\"\n",
              "            title=\"Convert this dataframe to an interactive table.\"\n",
              "            style=\"display:none;\">\n",
              "\n",
              "  <svg xmlns=\"http://www.w3.org/2000/svg\" height=\"24px\" viewBox=\"0 -960 960 960\">\n",
              "    <path d=\"M120-120v-720h720v720H120Zm60-500h600v-160H180v160Zm220 220h160v-160H400v160Zm0 220h160v-160H400v160ZM180-400h160v-160H180v160Zm440 0h160v-160H620v160ZM180-180h160v-160H180v160Zm440 0h160v-160H620v160Z\"/>\n",
              "  </svg>\n",
              "    </button>\n",
              "\n",
              "  <style>\n",
              "    .colab-df-container {\n",
              "      display:flex;\n",
              "      gap: 12px;\n",
              "    }\n",
              "\n",
              "    .colab-df-convert {\n",
              "      background-color: #E8F0FE;\n",
              "      border: none;\n",
              "      border-radius: 50%;\n",
              "      cursor: pointer;\n",
              "      display: none;\n",
              "      fill: #1967D2;\n",
              "      height: 32px;\n",
              "      padding: 0 0 0 0;\n",
              "      width: 32px;\n",
              "    }\n",
              "\n",
              "    .colab-df-convert:hover {\n",
              "      background-color: #E2EBFA;\n",
              "      box-shadow: 0px 1px 2px rgba(60, 64, 67, 0.3), 0px 1px 3px 1px rgba(60, 64, 67, 0.15);\n",
              "      fill: #174EA6;\n",
              "    }\n",
              "\n",
              "    .colab-df-buttons div {\n",
              "      margin-bottom: 4px;\n",
              "    }\n",
              "\n",
              "    [theme=dark] .colab-df-convert {\n",
              "      background-color: #3B4455;\n",
              "      fill: #D2E3FC;\n",
              "    }\n",
              "\n",
              "    [theme=dark] .colab-df-convert:hover {\n",
              "      background-color: #434B5C;\n",
              "      box-shadow: 0px 1px 3px 1px rgba(0, 0, 0, 0.15);\n",
              "      filter: drop-shadow(0px 1px 2px rgba(0, 0, 0, 0.3));\n",
              "      fill: #FFFFFF;\n",
              "    }\n",
              "  </style>\n",
              "\n",
              "    <script>\n",
              "      const buttonEl =\n",
              "        document.querySelector('#df-2bfe055f-d11f-4cec-bdd8-b80530fb66a3 button.colab-df-convert');\n",
              "      buttonEl.style.display =\n",
              "        google.colab.kernel.accessAllowed ? 'block' : 'none';\n",
              "\n",
              "      async function convertToInteractive(key) {\n",
              "        const element = document.querySelector('#df-2bfe055f-d11f-4cec-bdd8-b80530fb66a3');\n",
              "        const dataTable =\n",
              "          await google.colab.kernel.invokeFunction('convertToInteractive',\n",
              "                                                    [key], {});\n",
              "        if (!dataTable) return;\n",
              "\n",
              "        const docLinkHtml = 'Like what you see? Visit the ' +\n",
              "          '<a target=\"_blank\" href=https://colab.research.google.com/notebooks/data_table.ipynb>data table notebook</a>'\n",
              "          + ' to learn more about interactive tables.';\n",
              "        element.innerHTML = '';\n",
              "        dataTable['output_type'] = 'display_data';\n",
              "        await google.colab.output.renderOutput(dataTable, element);\n",
              "        const docLink = document.createElement('div');\n",
              "        docLink.innerHTML = docLinkHtml;\n",
              "        element.appendChild(docLink);\n",
              "      }\n",
              "    </script>\n",
              "  </div>\n",
              "\n",
              "\n",
              "<div id=\"df-96062743-d348-481f-82d4-b5199015331e\">\n",
              "  <button class=\"colab-df-quickchart\" onclick=\"quickchart('df-96062743-d348-481f-82d4-b5199015331e')\"\n",
              "            title=\"Suggest charts\"\n",
              "            style=\"display:none;\">\n",
              "\n",
              "<svg xmlns=\"http://www.w3.org/2000/svg\" height=\"24px\"viewBox=\"0 0 24 24\"\n",
              "     width=\"24px\">\n",
              "    <g>\n",
              "        <path d=\"M19 3H5c-1.1 0-2 .9-2 2v14c0 1.1.9 2 2 2h14c1.1 0 2-.9 2-2V5c0-1.1-.9-2-2-2zM9 17H7v-7h2v7zm4 0h-2V7h2v10zm4 0h-2v-4h2v4z\"/>\n",
              "    </g>\n",
              "</svg>\n",
              "  </button>\n",
              "\n",
              "<style>\n",
              "  .colab-df-quickchart {\n",
              "      --bg-color: #E8F0FE;\n",
              "      --fill-color: #1967D2;\n",
              "      --hover-bg-color: #E2EBFA;\n",
              "      --hover-fill-color: #174EA6;\n",
              "      --disabled-fill-color: #AAA;\n",
              "      --disabled-bg-color: #DDD;\n",
              "  }\n",
              "\n",
              "  [theme=dark] .colab-df-quickchart {\n",
              "      --bg-color: #3B4455;\n",
              "      --fill-color: #D2E3FC;\n",
              "      --hover-bg-color: #434B5C;\n",
              "      --hover-fill-color: #FFFFFF;\n",
              "      --disabled-bg-color: #3B4455;\n",
              "      --disabled-fill-color: #666;\n",
              "  }\n",
              "\n",
              "  .colab-df-quickchart {\n",
              "    background-color: var(--bg-color);\n",
              "    border: none;\n",
              "    border-radius: 50%;\n",
              "    cursor: pointer;\n",
              "    display: none;\n",
              "    fill: var(--fill-color);\n",
              "    height: 32px;\n",
              "    padding: 0;\n",
              "    width: 32px;\n",
              "  }\n",
              "\n",
              "  .colab-df-quickchart:hover {\n",
              "    background-color: var(--hover-bg-color);\n",
              "    box-shadow: 0 1px 2px rgba(60, 64, 67, 0.3), 0 1px 3px 1px rgba(60, 64, 67, 0.15);\n",
              "    fill: var(--button-hover-fill-color);\n",
              "  }\n",
              "\n",
              "  .colab-df-quickchart-complete:disabled,\n",
              "  .colab-df-quickchart-complete:disabled:hover {\n",
              "    background-color: var(--disabled-bg-color);\n",
              "    fill: var(--disabled-fill-color);\n",
              "    box-shadow: none;\n",
              "  }\n",
              "\n",
              "  .colab-df-spinner {\n",
              "    border: 2px solid var(--fill-color);\n",
              "    border-color: transparent;\n",
              "    border-bottom-color: var(--fill-color);\n",
              "    animation:\n",
              "      spin 1s steps(1) infinite;\n",
              "  }\n",
              "\n",
              "  @keyframes spin {\n",
              "    0% {\n",
              "      border-color: transparent;\n",
              "      border-bottom-color: var(--fill-color);\n",
              "      border-left-color: var(--fill-color);\n",
              "    }\n",
              "    20% {\n",
              "      border-color: transparent;\n",
              "      border-left-color: var(--fill-color);\n",
              "      border-top-color: var(--fill-color);\n",
              "    }\n",
              "    30% {\n",
              "      border-color: transparent;\n",
              "      border-left-color: var(--fill-color);\n",
              "      border-top-color: var(--fill-color);\n",
              "      border-right-color: var(--fill-color);\n",
              "    }\n",
              "    40% {\n",
              "      border-color: transparent;\n",
              "      border-right-color: var(--fill-color);\n",
              "      border-top-color: var(--fill-color);\n",
              "    }\n",
              "    60% {\n",
              "      border-color: transparent;\n",
              "      border-right-color: var(--fill-color);\n",
              "    }\n",
              "    80% {\n",
              "      border-color: transparent;\n",
              "      border-right-color: var(--fill-color);\n",
              "      border-bottom-color: var(--fill-color);\n",
              "    }\n",
              "    90% {\n",
              "      border-color: transparent;\n",
              "      border-bottom-color: var(--fill-color);\n",
              "    }\n",
              "  }\n",
              "</style>\n",
              "\n",
              "  <script>\n",
              "    async function quickchart(key) {\n",
              "      const quickchartButtonEl =\n",
              "        document.querySelector('#' + key + ' button');\n",
              "      quickchartButtonEl.disabled = true;  // To prevent multiple clicks.\n",
              "      quickchartButtonEl.classList.add('colab-df-spinner');\n",
              "      try {\n",
              "        const charts = await google.colab.kernel.invokeFunction(\n",
              "            'suggestCharts', [key], {});\n",
              "      } catch (error) {\n",
              "        console.error('Error during call to suggestCharts:', error);\n",
              "      }\n",
              "      quickchartButtonEl.classList.remove('colab-df-spinner');\n",
              "      quickchartButtonEl.classList.add('colab-df-quickchart-complete');\n",
              "    }\n",
              "    (() => {\n",
              "      let quickchartButtonEl =\n",
              "        document.querySelector('#df-96062743-d348-481f-82d4-b5199015331e button');\n",
              "      quickchartButtonEl.style.display =\n",
              "        google.colab.kernel.accessAllowed ? 'block' : 'none';\n",
              "    })();\n",
              "  </script>\n",
              "</div>\n",
              "\n",
              "    </div>\n",
              "  </div>\n"
            ],
            "application/vnd.google.colaboratory.intrinsic+json": {
              "type": "dataframe",
              "variable_name": "df",
              "summary": "{\n  \"name\": \"df\",\n  \"rows\": 5989,\n  \"fields\": [\n    {\n      \"column\": \"Location\",\n      \"properties\": {\n        \"dtype\": \"string\",\n        \"num_unique_values\": 5989,\n        \"samples\": [\n          \"qWZkBRNwWL\",\n          \"mfZyCKYaOM\",\n          \"pSWgAYCveM\"\n        ],\n        \"semantic_type\": \"\",\n        \"description\": \"\"\n      }\n    },\n    {\n      \"column\": \"Country\",\n      \"properties\": {\n        \"dtype\": \"category\",\n        \"num_unique_values\": 7,\n        \"samples\": [\n          \"India\",\n          \"USA\",\n          \"China\"\n        ],\n        \"semantic_type\": \"\",\n        \"description\": \"\"\n      }\n    },\n    {\n      \"column\": \"Category\",\n      \"properties\": {\n        \"dtype\": \"number\",\n        \"std\": 1.7173259207623643,\n        \"min\": 0.0,\n        \"max\": 5.0,\n        \"num_unique_values\": 6,\n        \"samples\": [\n          4.0,\n          3.0,\n          5.0\n        ],\n        \"semantic_type\": \"\",\n        \"description\": \"\"\n      }\n    },\n    {\n      \"column\": \"Visitors\",\n      \"properties\": {\n        \"dtype\": \"number\",\n        \"std\": 289783,\n        \"min\": 1108,\n        \"max\": 999982,\n        \"num_unique_values\": 5969,\n        \"samples\": [\n          852107,\n          212735,\n          337951\n        ],\n        \"semantic_type\": \"\",\n        \"description\": \"\"\n      }\n    },\n    {\n      \"column\": \"Rating\",\n      \"properties\": {\n        \"dtype\": \"number\",\n        \"std\": 1.1559795566335105,\n        \"min\": 1.0,\n        \"max\": 5.0,\n        \"num_unique_values\": 401,\n        \"samples\": [\n          2.67,\n          2.42,\n          2.16\n        ],\n        \"semantic_type\": \"\",\n        \"description\": \"\"\n      }\n    },\n    {\n      \"column\": \"Revenue\",\n      \"properties\": {\n        \"dtype\": \"number\",\n        \"std\": 286743.2252106224,\n        \"min\": 1025.81,\n        \"max\": 999999.49,\n        \"num_unique_values\": 5989,\n        \"samples\": [\n          698224.65,\n          230020.48,\n          107767.31\n        ],\n        \"semantic_type\": \"\",\n        \"description\": \"\"\n      }\n    },\n    {\n      \"column\": \"Accommodation_Available\",\n      \"properties\": {\n        \"dtype\": \"category\",\n        \"num_unique_values\": 2,\n        \"samples\": [\n          \"No\",\n          \"Yes\"\n        ],\n        \"semantic_type\": \"\",\n        \"description\": \"\"\n      }\n    }\n  ]\n}"
            }
          },
          "metadata": {},
          "execution_count": 70
        }
      ]
    },
    {
      "cell_type": "markdown",
      "source": [
        "Bisa dilihat dibagian Category yang awalnnya object sekarang berubah menjadi bilangan bulat."
      ],
      "metadata": {
        "id": "yLUrmsBj41kz"
      }
    },
    {
      "cell_type": "markdown",
      "source": [
        "### **2.One Hot Encoding**\n",
        "\n",
        "Untuk melakukan One-Hot Encoding kita perlu mengimport OneHotEncoder dari sklearn.preprocessing terlebih dahulu. Lalu pada bagian ini kita akan mengubah nilai 'Accommodation_Available' menjadi boolean (True, False)."
      ],
      "metadata": {
        "id": "CPncuRNMaz5-"
      }
    },
    {
      "cell_type": "code",
      "source": [
        "from sklearn.preprocessing import OneHotEncoder"
      ],
      "metadata": {
        "id": "QzPDJs9mayLF"
      },
      "execution_count": null,
      "outputs": []
    },
    {
      "cell_type": "code",
      "source": [
        "df[\"Accommodation_Available\"].unique()"
      ],
      "metadata": {
        "colab": {
          "base_uri": "https://localhost:8080/"
        },
        "id": "cBJAUV_wa5qV",
        "outputId": "cac3db20-16dc-4807-9a69-e77d0bfaa59c"
      },
      "execution_count": null,
      "outputs": [
        {
          "output_type": "execute_result",
          "data": {
            "text/plain": [
              "array(['Yes', 'No'], dtype=object)"
            ]
          },
          "metadata": {},
          "execution_count": 72
        }
      ]
    },
    {
      "cell_type": "code",
      "source": [
        "from sklearn.preprocessing import OneHotEncoder\n",
        "ohe = OneHotEncoder(sparse_output=False)\n",
        "\n",
        "accom = ohe.fit_transform(df[[\"Accommodation_Available\"]])\n",
        "accom = pd.DataFrame(accom)\n",
        "\n",
        "df[\"Yes\"] = accom[0]\n",
        "df[\"No\"] = accom[1]"
      ],
      "metadata": {
        "id": "We43ArnibqNI"
      },
      "execution_count": null,
      "outputs": []
    },
    {
      "cell_type": "code",
      "source": [
        "df"
      ],
      "metadata": {
        "colab": {
          "base_uri": "https://localhost:8080/",
          "height": 424
        },
        "id": "nRfdDeh5cCff",
        "outputId": "78aafdc3-54e1-4f92-e3d2-a07956096d80"
      },
      "execution_count": null,
      "outputs": [
        {
          "output_type": "execute_result",
          "data": {
            "text/plain": [
              "       Location  Country  Category  Visitors  Rating   Revenue   \\\n",
              "0     kuBZRkVsAR   India     4.0     948853    1.32    84388.38   \n",
              "1     aHKUXhjzTo     USA     3.0     813627    2.01   802625.60   \n",
              "2     dlrdYtJFTA  Brazil     4.0     508673    1.42   338777.11   \n",
              "3     DxmlzdGkHK  Brazil     3.0     623329    1.09   295183.60   \n",
              "4     WJCCQlepnz  France     2.0     124867    1.43   547893.24   \n",
              "...          ...     ...       ...       ...     ...        ...   \n",
              "5984  xAzwnVKAqz     USA     5.0     828137    1.97   132848.78   \n",
              "5985  IfKotyaJFC  France     4.0     276317    3.53   325183.96   \n",
              "5986  bPyubCWGgA   Egypt     1.0     809198    3.37   927336.50   \n",
              "5987  kkWIucpBnu   Egypt     2.0     808303    2.52   115791.43   \n",
              "5988  gHXUrdticm  France     2.0      40939    4.65   957026.85   \n",
              "\n",
              "     Accommodation_Available  Yes  No   \n",
              "0               Yes           0.0  1.0  \n",
              "1                No           1.0  0.0  \n",
              "2               Yes           0.0  1.0  \n",
              "3               Yes           0.0  1.0  \n",
              "4                No           1.0  0.0  \n",
              "...                      ...  ...  ...  \n",
              "5984             No           1.0  0.0  \n",
              "5985            Yes           0.0  1.0  \n",
              "5986             No           1.0  0.0  \n",
              "5987            Yes           0.0  1.0  \n",
              "5988            Yes           0.0  1.0  \n",
              "\n",
              "[5989 rows x 9 columns]"
            ],
            "text/html": [
              "\n",
              "  <div id=\"df-ebb3b7eb-fc16-4b69-b0f2-69be7d965a78\" class=\"colab-df-container\">\n",
              "    <div>\n",
              "<style scoped>\n",
              "    .dataframe tbody tr th:only-of-type {\n",
              "        vertical-align: middle;\n",
              "    }\n",
              "\n",
              "    .dataframe tbody tr th {\n",
              "        vertical-align: top;\n",
              "    }\n",
              "\n",
              "    .dataframe thead th {\n",
              "        text-align: right;\n",
              "    }\n",
              "</style>\n",
              "<table border=\"1\" class=\"dataframe\">\n",
              "  <thead>\n",
              "    <tr style=\"text-align: center;\">\n",
              "      <th></th>\n",
              "      <th>Location</th>\n",
              "      <th>Country</th>\n",
              "      <th>Category</th>\n",
              "      <th>Visitors</th>\n",
              "      <th>Rating</th>\n",
              "      <th>Revenue</th>\n",
              "      <th>Accommodation_Available</th>\n",
              "      <th>Yes</th>\n",
              "      <th>No</th>\n",
              "    </tr>\n",
              "  </thead>\n",
              "  <tbody>\n",
              "    <tr>\n",
              "      <th>0</th>\n",
              "      <td>kuBZRkVsAR</td>\n",
              "      <td>India</td>\n",
              "      <td>4.0</td>\n",
              "      <td>948853</td>\n",
              "      <td>1.32</td>\n",
              "      <td>84388.38</td>\n",
              "      <td>Yes</td>\n",
              "      <td>0.0</td>\n",
              "      <td>1.0</td>\n",
              "    </tr>\n",
              "    <tr>\n",
              "      <th>1</th>\n",
              "      <td>aHKUXhjzTo</td>\n",
              "      <td>USA</td>\n",
              "      <td>3.0</td>\n",
              "      <td>813627</td>\n",
              "      <td>2.01</td>\n",
              "      <td>802625.60</td>\n",
              "      <td>No</td>\n",
              "      <td>1.0</td>\n",
              "      <td>0.0</td>\n",
              "    </tr>\n",
              "    <tr>\n",
              "      <th>2</th>\n",
              "      <td>dlrdYtJFTA</td>\n",
              "      <td>Brazil</td>\n",
              "      <td>4.0</td>\n",
              "      <td>508673</td>\n",
              "      <td>1.42</td>\n",
              "      <td>338777.11</td>\n",
              "      <td>Yes</td>\n",
              "      <td>0.0</td>\n",
              "      <td>1.0</td>\n",
              "    </tr>\n",
              "    <tr>\n",
              "      <th>3</th>\n",
              "      <td>DxmlzdGkHK</td>\n",
              "      <td>Brazil</td>\n",
              "      <td>3.0</td>\n",
              "      <td>623329</td>\n",
              "      <td>1.09</td>\n",
              "      <td>295183.60</td>\n",
              "      <td>Yes</td>\n",
              "      <td>0.0</td>\n",
              "      <td>1.0</td>\n",
              "    </tr>\n",
              "    <tr>\n",
              "      <th>4</th>\n",
              "      <td>WJCCQlepnz</td>\n",
              "      <td>France</td>\n",
              "      <td>2.0</td>\n",
              "      <td>124867</td>\n",
              "      <td>1.43</td>\n",
              "      <td>547893.24</td>\n",
              "      <td>No</td>\n",
              "      <td>1.0</td>\n",
              "      <td>0.0</td>\n",
              "    </tr>\n",
              "    <tr>\n",
              "      <th>...</th>\n",
              "      <td>...</td>\n",
              "      <td>...</td>\n",
              "      <td>...</td>\n",
              "      <td>...</td>\n",
              "      <td>...</td>\n",
              "      <td>...</td>\n",
              "      <td>...</td>\n",
              "      <td>...</td>\n",
              "      <td>...</td>\n",
              "    </tr>\n",
              "    <tr>\n",
              "      <th>5984</th>\n",
              "      <td>xAzwnVKAqz</td>\n",
              "      <td>USA</td>\n",
              "      <td>5.0</td>\n",
              "      <td>828137</td>\n",
              "      <td>1.97</td>\n",
              "      <td>132848.78</td>\n",
              "      <td>No</td>\n",
              "      <td>1.0</td>\n",
              "      <td>0.0</td>\n",
              "    </tr>\n",
              "    <tr>\n",
              "      <th>5985</th>\n",
              "      <td>IfKotyaJFC</td>\n",
              "      <td>France</td>\n",
              "      <td>4.0</td>\n",
              "      <td>276317</td>\n",
              "      <td>3.53</td>\n",
              "      <td>325183.96</td>\n",
              "      <td>Yes</td>\n",
              "      <td>0.0</td>\n",
              "      <td>1.0</td>\n",
              "    </tr>\n",
              "    <tr>\n",
              "      <th>5986</th>\n",
              "      <td>bPyubCWGgA</td>\n",
              "      <td>Egypt</td>\n",
              "      <td>1.0</td>\n",
              "      <td>809198</td>\n",
              "      <td>3.37</td>\n",
              "      <td>927336.50</td>\n",
              "      <td>No</td>\n",
              "      <td>1.0</td>\n",
              "      <td>0.0</td>\n",
              "    </tr>\n",
              "    <tr>\n",
              "      <th>5987</th>\n",
              "      <td>kkWIucpBnu</td>\n",
              "      <td>Egypt</td>\n",
              "      <td>2.0</td>\n",
              "      <td>808303</td>\n",
              "      <td>2.52</td>\n",
              "      <td>115791.43</td>\n",
              "      <td>Yes</td>\n",
              "      <td>0.0</td>\n",
              "      <td>1.0</td>\n",
              "    </tr>\n",
              "    <tr>\n",
              "      <th>5988</th>\n",
              "      <td>gHXUrdticm</td>\n",
              "      <td>France</td>\n",
              "      <td>2.0</td>\n",
              "      <td>40939</td>\n",
              "      <td>4.65</td>\n",
              "      <td>957026.85</td>\n",
              "      <td>Yes</td>\n",
              "      <td>0.0</td>\n",
              "      <td>1.0</td>\n",
              "    </tr>\n",
              "  </tbody>\n",
              "</table>\n",
              "<p>5989 rows × 9 columns</p>\n",
              "</div>\n",
              "    <div class=\"colab-df-buttons\">\n",
              "\n",
              "  <div class=\"colab-df-container\">\n",
              "    <button class=\"colab-df-convert\" onclick=\"convertToInteractive('df-ebb3b7eb-fc16-4b69-b0f2-69be7d965a78')\"\n",
              "            title=\"Convert this dataframe to an interactive table.\"\n",
              "            style=\"display:none;\">\n",
              "\n",
              "  <svg xmlns=\"http://www.w3.org/2000/svg\" height=\"24px\" viewBox=\"0 -960 960 960\">\n",
              "    <path d=\"M120-120v-720h720v720H120Zm60-500h600v-160H180v160Zm220 220h160v-160H400v160Zm0 220h160v-160H400v160ZM180-400h160v-160H180v160Zm440 0h160v-160H620v160ZM180-180h160v-160H180v160Zm440 0h160v-160H620v160Z\"/>\n",
              "  </svg>\n",
              "    </button>\n",
              "\n",
              "  <style>\n",
              "    .colab-df-container {\n",
              "      display:flex;\n",
              "      gap: 12px;\n",
              "    }\n",
              "\n",
              "    .colab-df-convert {\n",
              "      background-color: #E8F0FE;\n",
              "      border: none;\n",
              "      border-radius: 50%;\n",
              "      cursor: pointer;\n",
              "      display: none;\n",
              "      fill: #1967D2;\n",
              "      height: 32px;\n",
              "      padding: 0 0 0 0;\n",
              "      width: 32px;\n",
              "    }\n",
              "\n",
              "    .colab-df-convert:hover {\n",
              "      background-color: #E2EBFA;\n",
              "      box-shadow: 0px 1px 2px rgba(60, 64, 67, 0.3), 0px 1px 3px 1px rgba(60, 64, 67, 0.15);\n",
              "      fill: #174EA6;\n",
              "    }\n",
              "\n",
              "    .colab-df-buttons div {\n",
              "      margin-bottom: 4px;\n",
              "    }\n",
              "\n",
              "    [theme=dark] .colab-df-convert {\n",
              "      background-color: #3B4455;\n",
              "      fill: #D2E3FC;\n",
              "    }\n",
              "\n",
              "    [theme=dark] .colab-df-convert:hover {\n",
              "      background-color: #434B5C;\n",
              "      box-shadow: 0px 1px 3px 1px rgba(0, 0, 0, 0.15);\n",
              "      filter: drop-shadow(0px 1px 2px rgba(0, 0, 0, 0.3));\n",
              "      fill: #FFFFFF;\n",
              "    }\n",
              "  </style>\n",
              "\n",
              "    <script>\n",
              "      const buttonEl =\n",
              "        document.querySelector('#df-ebb3b7eb-fc16-4b69-b0f2-69be7d965a78 button.colab-df-convert');\n",
              "      buttonEl.style.display =\n",
              "        google.colab.kernel.accessAllowed ? 'block' : 'none';\n",
              "\n",
              "      async function convertToInteractive(key) {\n",
              "        const element = document.querySelector('#df-ebb3b7eb-fc16-4b69-b0f2-69be7d965a78');\n",
              "        const dataTable =\n",
              "          await google.colab.kernel.invokeFunction('convertToInteractive',\n",
              "                                                    [key], {});\n",
              "        if (!dataTable) return;\n",
              "\n",
              "        const docLinkHtml = 'Like what you see? Visit the ' +\n",
              "          '<a target=\"_blank\" href=https://colab.research.google.com/notebooks/data_table.ipynb>data table notebook</a>'\n",
              "          + ' to learn more about interactive tables.';\n",
              "        element.innerHTML = '';\n",
              "        dataTable['output_type'] = 'display_data';\n",
              "        await google.colab.output.renderOutput(dataTable, element);\n",
              "        const docLink = document.createElement('div');\n",
              "        docLink.innerHTML = docLinkHtml;\n",
              "        element.appendChild(docLink);\n",
              "      }\n",
              "    </script>\n",
              "  </div>\n",
              "\n",
              "\n",
              "<div id=\"df-28f2dd27-5c13-4fe4-8ca1-a8239132f886\">\n",
              "  <button class=\"colab-df-quickchart\" onclick=\"quickchart('df-28f2dd27-5c13-4fe4-8ca1-a8239132f886')\"\n",
              "            title=\"Suggest charts\"\n",
              "            style=\"display:none;\">\n",
              "\n",
              "<svg xmlns=\"http://www.w3.org/2000/svg\" height=\"24px\"viewBox=\"0 0 24 24\"\n",
              "     width=\"24px\">\n",
              "    <g>\n",
              "        <path d=\"M19 3H5c-1.1 0-2 .9-2 2v14c0 1.1.9 2 2 2h14c1.1 0 2-.9 2-2V5c0-1.1-.9-2-2-2zM9 17H7v-7h2v7zm4 0h-2V7h2v10zm4 0h-2v-4h2v4z\"/>\n",
              "    </g>\n",
              "</svg>\n",
              "  </button>\n",
              "\n",
              "<style>\n",
              "  .colab-df-quickchart {\n",
              "      --bg-color: #E8F0FE;\n",
              "      --fill-color: #1967D2;\n",
              "      --hover-bg-color: #E2EBFA;\n",
              "      --hover-fill-color: #174EA6;\n",
              "      --disabled-fill-color: #AAA;\n",
              "      --disabled-bg-color: #DDD;\n",
              "  }\n",
              "\n",
              "  [theme=dark] .colab-df-quickchart {\n",
              "      --bg-color: #3B4455;\n",
              "      --fill-color: #D2E3FC;\n",
              "      --hover-bg-color: #434B5C;\n",
              "      --hover-fill-color: #FFFFFF;\n",
              "      --disabled-bg-color: #3B4455;\n",
              "      --disabled-fill-color: #666;\n",
              "  }\n",
              "\n",
              "  .colab-df-quickchart {\n",
              "    background-color: var(--bg-color);\n",
              "    border: none;\n",
              "    border-radius: 50%;\n",
              "    cursor: pointer;\n",
              "    display: none;\n",
              "    fill: var(--fill-color);\n",
              "    height: 32px;\n",
              "    padding: 0;\n",
              "    width: 32px;\n",
              "  }\n",
              "\n",
              "  .colab-df-quickchart:hover {\n",
              "    background-color: var(--hover-bg-color);\n",
              "    box-shadow: 0 1px 2px rgba(60, 64, 67, 0.3), 0 1px 3px 1px rgba(60, 64, 67, 0.15);\n",
              "    fill: var(--button-hover-fill-color);\n",
              "  }\n",
              "\n",
              "  .colab-df-quickchart-complete:disabled,\n",
              "  .colab-df-quickchart-complete:disabled:hover {\n",
              "    background-color: var(--disabled-bg-color);\n",
              "    fill: var(--disabled-fill-color);\n",
              "    box-shadow: none;\n",
              "  }\n",
              "\n",
              "  .colab-df-spinner {\n",
              "    border: 2px solid var(--fill-color);\n",
              "    border-color: transparent;\n",
              "    border-bottom-color: var(--fill-color);\n",
              "    animation:\n",
              "      spin 1s steps(1) infinite;\n",
              "  }\n",
              "\n",
              "  @keyframes spin {\n",
              "    0% {\n",
              "      border-color: transparent;\n",
              "      border-bottom-color: var(--fill-color);\n",
              "      border-left-color: var(--fill-color);\n",
              "    }\n",
              "    20% {\n",
              "      border-color: transparent;\n",
              "      border-left-color: var(--fill-color);\n",
              "      border-top-color: var(--fill-color);\n",
              "    }\n",
              "    30% {\n",
              "      border-color: transparent;\n",
              "      border-left-color: var(--fill-color);\n",
              "      border-top-color: var(--fill-color);\n",
              "      border-right-color: var(--fill-color);\n",
              "    }\n",
              "    40% {\n",
              "      border-color: transparent;\n",
              "      border-right-color: var(--fill-color);\n",
              "      border-top-color: var(--fill-color);\n",
              "    }\n",
              "    60% {\n",
              "      border-color: transparent;\n",
              "      border-right-color: var(--fill-color);\n",
              "    }\n",
              "    80% {\n",
              "      border-color: transparent;\n",
              "      border-right-color: var(--fill-color);\n",
              "      border-bottom-color: var(--fill-color);\n",
              "    }\n",
              "    90% {\n",
              "      border-color: transparent;\n",
              "      border-bottom-color: var(--fill-color);\n",
              "    }\n",
              "  }\n",
              "</style>\n",
              "\n",
              "  <script>\n",
              "    async function quickchart(key) {\n",
              "      const quickchartButtonEl =\n",
              "        document.querySelector('#' + key + ' button');\n",
              "      quickchartButtonEl.disabled = true;  // To prevent multiple clicks.\n",
              "      quickchartButtonEl.classList.add('colab-df-spinner');\n",
              "      try {\n",
              "        const charts = await google.colab.kernel.invokeFunction(\n",
              "            'suggestCharts', [key], {});\n",
              "      } catch (error) {\n",
              "        console.error('Error during call to suggestCharts:', error);\n",
              "      }\n",
              "      quickchartButtonEl.classList.remove('colab-df-spinner');\n",
              "      quickchartButtonEl.classList.add('colab-df-quickchart-complete');\n",
              "    }\n",
              "    (() => {\n",
              "      let quickchartButtonEl =\n",
              "        document.querySelector('#df-28f2dd27-5c13-4fe4-8ca1-a8239132f886 button');\n",
              "      quickchartButtonEl.style.display =\n",
              "        google.colab.kernel.accessAllowed ? 'block' : 'none';\n",
              "    })();\n",
              "  </script>\n",
              "</div>\n",
              "\n",
              "  <div id=\"id_53f1dd46-105e-4d45-95c9-5555eabc1b62\">\n",
              "    <style>\n",
              "      .colab-df-generate {\n",
              "        background-color: #E8F0FE;\n",
              "        border: none;\n",
              "        border-radius: 50%;\n",
              "        cursor: pointer;\n",
              "        display: none;\n",
              "        fill: #1967D2;\n",
              "        height: 32px;\n",
              "        padding: 0 0 0 0;\n",
              "        width: 32px;\n",
              "      }\n",
              "\n",
              "      .colab-df-generate:hover {\n",
              "        background-color: #E2EBFA;\n",
              "        box-shadow: 0px 1px 2px rgba(60, 64, 67, 0.3), 0px 1px 3px 1px rgba(60, 64, 67, 0.15);\n",
              "        fill: #174EA6;\n",
              "      }\n",
              "\n",
              "      [theme=dark] .colab-df-generate {\n",
              "        background-color: #3B4455;\n",
              "        fill: #D2E3FC;\n",
              "      }\n",
              "\n",
              "      [theme=dark] .colab-df-generate:hover {\n",
              "        background-color: #434B5C;\n",
              "        box-shadow: 0px 1px 3px 1px rgba(0, 0, 0, 0.15);\n",
              "        filter: drop-shadow(0px 1px 2px rgba(0, 0, 0, 0.3));\n",
              "        fill: #FFFFFF;\n",
              "      }\n",
              "    </style>\n",
              "    <button class=\"colab-df-generate\" onclick=\"generateWithVariable('df')\"\n",
              "            title=\"Generate code using this dataframe.\"\n",
              "            style=\"display:none;\">\n",
              "\n",
              "  <svg xmlns=\"http://www.w3.org/2000/svg\" height=\"24px\"viewBox=\"0 0 24 24\"\n",
              "       width=\"24px\">\n",
              "    <path d=\"M7,19H8.4L18.45,9,17,7.55,7,17.6ZM5,21V16.75L18.45,3.32a2,2,0,0,1,2.83,0l1.4,1.43a1.91,1.91,0,0,1,.58,1.4,1.91,1.91,0,0,1-.58,1.4L9.25,21ZM18.45,9,17,7.55Zm-12,3A5.31,5.31,0,0,0,4.9,8.1,5.31,5.31,0,0,0,1,6.5,5.31,5.31,0,0,0,4.9,4.9,5.31,5.31,0,0,0,6.5,1,5.31,5.31,0,0,0,8.1,4.9,5.31,5.31,0,0,0,12,6.5,5.46,5.46,0,0,0,6.5,12Z\"/>\n",
              "  </svg>\n",
              "    </button>\n",
              "    <script>\n",
              "      (() => {\n",
              "      const buttonEl =\n",
              "        document.querySelector('#id_53f1dd46-105e-4d45-95c9-5555eabc1b62 button.colab-df-generate');\n",
              "      buttonEl.style.display =\n",
              "        google.colab.kernel.accessAllowed ? 'block' : 'none';\n",
              "\n",
              "      buttonEl.onclick = () => {\n",
              "        google.colab.notebook.generateWithVariable('df');\n",
              "      }\n",
              "      })();\n",
              "    </script>\n",
              "  </div>\n",
              "\n",
              "    </div>\n",
              "  </div>\n"
            ],
            "application/vnd.google.colaboratory.intrinsic+json": {
              "type": "dataframe",
              "variable_name": "df",
              "summary": "{\n  \"name\": \"df\",\n  \"rows\": 5989,\n  \"fields\": [\n    {\n      \"column\": \"Location\",\n      \"properties\": {\n        \"dtype\": \"string\",\n        \"num_unique_values\": 5989,\n        \"samples\": [\n          \"qWZkBRNwWL\",\n          \"mfZyCKYaOM\",\n          \"pSWgAYCveM\"\n        ],\n        \"semantic_type\": \"\",\n        \"description\": \"\"\n      }\n    },\n    {\n      \"column\": \"Country\",\n      \"properties\": {\n        \"dtype\": \"category\",\n        \"num_unique_values\": 7,\n        \"samples\": [\n          \"India\",\n          \"USA\",\n          \"China\"\n        ],\n        \"semantic_type\": \"\",\n        \"description\": \"\"\n      }\n    },\n    {\n      \"column\": \"Category\",\n      \"properties\": {\n        \"dtype\": \"number\",\n        \"std\": 1.7173259207623643,\n        \"min\": 0.0,\n        \"max\": 5.0,\n        \"num_unique_values\": 6,\n        \"samples\": [\n          4.0,\n          3.0,\n          5.0\n        ],\n        \"semantic_type\": \"\",\n        \"description\": \"\"\n      }\n    },\n    {\n      \"column\": \"Visitors\",\n      \"properties\": {\n        \"dtype\": \"number\",\n        \"std\": 289783,\n        \"min\": 1108,\n        \"max\": 999982,\n        \"num_unique_values\": 5969,\n        \"samples\": [\n          852107,\n          212735,\n          337951\n        ],\n        \"semantic_type\": \"\",\n        \"description\": \"\"\n      }\n    },\n    {\n      \"column\": \"Rating\",\n      \"properties\": {\n        \"dtype\": \"number\",\n        \"std\": 1.1559795566335105,\n        \"min\": 1.0,\n        \"max\": 5.0,\n        \"num_unique_values\": 401,\n        \"samples\": [\n          2.67,\n          2.42,\n          2.16\n        ],\n        \"semantic_type\": \"\",\n        \"description\": \"\"\n      }\n    },\n    {\n      \"column\": \"Revenue\",\n      \"properties\": {\n        \"dtype\": \"number\",\n        \"std\": 286743.2252106224,\n        \"min\": 1025.81,\n        \"max\": 999999.49,\n        \"num_unique_values\": 5989,\n        \"samples\": [\n          698224.65,\n          230020.48,\n          107767.31\n        ],\n        \"semantic_type\": \"\",\n        \"description\": \"\"\n      }\n    },\n    {\n      \"column\": \"Accommodation_Available\",\n      \"properties\": {\n        \"dtype\": \"category\",\n        \"num_unique_values\": 2,\n        \"samples\": [\n          \"No\",\n          \"Yes\"\n        ],\n        \"semantic_type\": \"\",\n        \"description\": \"\"\n      }\n    },\n    {\n      \"column\": \"Yes\",\n      \"properties\": {\n        \"dtype\": \"number\",\n        \"std\": 0.5000322056369567,\n        \"min\": 0.0,\n        \"max\": 1.0,\n        \"num_unique_values\": 2,\n        \"samples\": [\n          1.0,\n          0.0\n        ],\n        \"semantic_type\": \"\",\n        \"description\": \"\"\n      }\n    },\n    {\n      \"column\": \"No\",\n      \"properties\": {\n        \"dtype\": \"number\",\n        \"std\": 0.5000322056369567,\n        \"min\": 0.0,\n        \"max\": 1.0,\n        \"num_unique_values\": 2,\n        \"samples\": [\n          0.0,\n          1.0\n        ],\n        \"semantic_type\": \"\",\n        \"description\": \"\"\n      }\n    }\n  ]\n}"
            }
          },
          "metadata": {},
          "execution_count": 74
        }
      ]
    },
    {
      "cell_type": "markdown",
      "source": [
        "Lalu bisa dilihat bahwa dibagian setelah kolom Accommodation_Available terdapat kolom yes dan no yang sesuai dengan keterangannya dengan bentuk (true false)"
      ],
      "metadata": {
        "id": "AR9HZ4315iyJ"
      }
    },
    {
      "cell_type": "markdown",
      "source": [
        "# **4.Featuring Engineering**\n",
        "\n",
        "Feature Engineering merupakan sebuah proses untuk mengembangkan dan\n",
        "memilih suatu fitur atau atribut (features) yang akan digunakan untuk melakukan\n",
        "analisis data atau dalam melakukan pembuatan sebuah model machine learning."
      ],
      "metadata": {
        "id": "frR8DRM5c6Qv"
      }
    },
    {
      "cell_type": "code",
      "source": [
        "# Menambahkan kolom 'Revenue_per_Visitor'\n",
        "df['Revenue_per_Visitor'] = df['Revenue'] / df['Visitors']\n",
        "\n",
        "# Mengelompokkan 'Rating' menjadi kategori: rendah (<=2), sedang (2-3.5), tinggi (>3.5)\n",
        "def categorize_rating(rating):\n",
        "    if rating <= 2:\n",
        "        return 'Low'\n",
        "    elif rating <= 3.5:\n",
        "        return 'Medium'\n",
        "    else:\n",
        "        return 'High'\n",
        "\n",
        "df['Rating_Category'] = df['Rating'].apply(categorize_rating)\n",
        "\n",
        "# Melihat hasil akhir\n",
        "df.head()\n"
      ],
      "metadata": {
        "colab": {
          "base_uri": "https://localhost:8080/",
          "height": 226
        },
        "id": "f5q9mKaQc5GF",
        "outputId": "56c24bdf-a36f-49ec-d60c-b3a8a5a2a2a2"
      },
      "execution_count": null,
      "outputs": [
        {
          "output_type": "execute_result",
          "data": {
            "text/plain": [
              "    Location  Country  Category  Visitors  Rating   Revenue   \\\n",
              "0  kuBZRkVsAR   India     4.0     948853    1.32    84388.38   \n",
              "1  aHKUXhjzTo     USA     3.0     813627    2.01   802625.60   \n",
              "2  dlrdYtJFTA  Brazil     4.0     508673    1.42   338777.11   \n",
              "3  DxmlzdGkHK  Brazil     3.0     623329    1.09   295183.60   \n",
              "4  WJCCQlepnz  France     2.0     124867    1.43   547893.24   \n",
              "\n",
              "  Accommodation_Available  Yes  No   Revenue_per_Visitor Rating_Category  \n",
              "0            Yes           0.0  1.0       0.088937               Low      \n",
              "1             No           1.0  0.0       0.986479            Medium      \n",
              "2            Yes           0.0  1.0       0.666002               Low      \n",
              "3            Yes           0.0  1.0       0.473560               Low      \n",
              "4             No           1.0  0.0       4.387815               Low      "
            ],
            "text/html": [
              "\n",
              "  <div id=\"df-eac6b26f-e102-4c13-b998-e997cee464e0\" class=\"colab-df-container\">\n",
              "    <div>\n",
              "<style scoped>\n",
              "    .dataframe tbody tr th:only-of-type {\n",
              "        vertical-align: middle;\n",
              "    }\n",
              "\n",
              "    .dataframe tbody tr th {\n",
              "        vertical-align: top;\n",
              "    }\n",
              "\n",
              "    .dataframe thead th {\n",
              "        text-align: right;\n",
              "    }\n",
              "</style>\n",
              "<table border=\"1\" class=\"dataframe\">\n",
              "  <thead>\n",
              "    <tr style=\"text-align: center;\">\n",
              "      <th></th>\n",
              "      <th>Location</th>\n",
              "      <th>Country</th>\n",
              "      <th>Category</th>\n",
              "      <th>Visitors</th>\n",
              "      <th>Rating</th>\n",
              "      <th>Revenue</th>\n",
              "      <th>Accommodation_Available</th>\n",
              "      <th>Yes</th>\n",
              "      <th>No</th>\n",
              "      <th>Revenue_per_Visitor</th>\n",
              "      <th>Rating_Category</th>\n",
              "    </tr>\n",
              "  </thead>\n",
              "  <tbody>\n",
              "    <tr>\n",
              "      <th>0</th>\n",
              "      <td>kuBZRkVsAR</td>\n",
              "      <td>India</td>\n",
              "      <td>4.0</td>\n",
              "      <td>948853</td>\n",
              "      <td>1.32</td>\n",
              "      <td>84388.38</td>\n",
              "      <td>Yes</td>\n",
              "      <td>0.0</td>\n",
              "      <td>1.0</td>\n",
              "      <td>0.088937</td>\n",
              "      <td>Low</td>\n",
              "    </tr>\n",
              "    <tr>\n",
              "      <th>1</th>\n",
              "      <td>aHKUXhjzTo</td>\n",
              "      <td>USA</td>\n",
              "      <td>3.0</td>\n",
              "      <td>813627</td>\n",
              "      <td>2.01</td>\n",
              "      <td>802625.60</td>\n",
              "      <td>No</td>\n",
              "      <td>1.0</td>\n",
              "      <td>0.0</td>\n",
              "      <td>0.986479</td>\n",
              "      <td>Medium</td>\n",
              "    </tr>\n",
              "    <tr>\n",
              "      <th>2</th>\n",
              "      <td>dlrdYtJFTA</td>\n",
              "      <td>Brazil</td>\n",
              "      <td>4.0</td>\n",
              "      <td>508673</td>\n",
              "      <td>1.42</td>\n",
              "      <td>338777.11</td>\n",
              "      <td>Yes</td>\n",
              "      <td>0.0</td>\n",
              "      <td>1.0</td>\n",
              "      <td>0.666002</td>\n",
              "      <td>Low</td>\n",
              "    </tr>\n",
              "    <tr>\n",
              "      <th>3</th>\n",
              "      <td>DxmlzdGkHK</td>\n",
              "      <td>Brazil</td>\n",
              "      <td>3.0</td>\n",
              "      <td>623329</td>\n",
              "      <td>1.09</td>\n",
              "      <td>295183.60</td>\n",
              "      <td>Yes</td>\n",
              "      <td>0.0</td>\n",
              "      <td>1.0</td>\n",
              "      <td>0.473560</td>\n",
              "      <td>Low</td>\n",
              "    </tr>\n",
              "    <tr>\n",
              "      <th>4</th>\n",
              "      <td>WJCCQlepnz</td>\n",
              "      <td>France</td>\n",
              "      <td>2.0</td>\n",
              "      <td>124867</td>\n",
              "      <td>1.43</td>\n",
              "      <td>547893.24</td>\n",
              "      <td>No</td>\n",
              "      <td>1.0</td>\n",
              "      <td>0.0</td>\n",
              "      <td>4.387815</td>\n",
              "      <td>Low</td>\n",
              "    </tr>\n",
              "  </tbody>\n",
              "</table>\n",
              "</div>\n",
              "    <div class=\"colab-df-buttons\">\n",
              "\n",
              "  <div class=\"colab-df-container\">\n",
              "    <button class=\"colab-df-convert\" onclick=\"convertToInteractive('df-eac6b26f-e102-4c13-b998-e997cee464e0')\"\n",
              "            title=\"Convert this dataframe to an interactive table.\"\n",
              "            style=\"display:none;\">\n",
              "\n",
              "  <svg xmlns=\"http://www.w3.org/2000/svg\" height=\"24px\" viewBox=\"0 -960 960 960\">\n",
              "    <path d=\"M120-120v-720h720v720H120Zm60-500h600v-160H180v160Zm220 220h160v-160H400v160Zm0 220h160v-160H400v160ZM180-400h160v-160H180v160Zm440 0h160v-160H620v160ZM180-180h160v-160H180v160Zm440 0h160v-160H620v160Z\"/>\n",
              "  </svg>\n",
              "    </button>\n",
              "\n",
              "  <style>\n",
              "    .colab-df-container {\n",
              "      display:flex;\n",
              "      gap: 12px;\n",
              "    }\n",
              "\n",
              "    .colab-df-convert {\n",
              "      background-color: #E8F0FE;\n",
              "      border: none;\n",
              "      border-radius: 50%;\n",
              "      cursor: pointer;\n",
              "      display: none;\n",
              "      fill: #1967D2;\n",
              "      height: 32px;\n",
              "      padding: 0 0 0 0;\n",
              "      width: 32px;\n",
              "    }\n",
              "\n",
              "    .colab-df-convert:hover {\n",
              "      background-color: #E2EBFA;\n",
              "      box-shadow: 0px 1px 2px rgba(60, 64, 67, 0.3), 0px 1px 3px 1px rgba(60, 64, 67, 0.15);\n",
              "      fill: #174EA6;\n",
              "    }\n",
              "\n",
              "    .colab-df-buttons div {\n",
              "      margin-bottom: 4px;\n",
              "    }\n",
              "\n",
              "    [theme=dark] .colab-df-convert {\n",
              "      background-color: #3B4455;\n",
              "      fill: #D2E3FC;\n",
              "    }\n",
              "\n",
              "    [theme=dark] .colab-df-convert:hover {\n",
              "      background-color: #434B5C;\n",
              "      box-shadow: 0px 1px 3px 1px rgba(0, 0, 0, 0.15);\n",
              "      filter: drop-shadow(0px 1px 2px rgba(0, 0, 0, 0.3));\n",
              "      fill: #FFFFFF;\n",
              "    }\n",
              "  </style>\n",
              "\n",
              "    <script>\n",
              "      const buttonEl =\n",
              "        document.querySelector('#df-eac6b26f-e102-4c13-b998-e997cee464e0 button.colab-df-convert');\n",
              "      buttonEl.style.display =\n",
              "        google.colab.kernel.accessAllowed ? 'block' : 'none';\n",
              "\n",
              "      async function convertToInteractive(key) {\n",
              "        const element = document.querySelector('#df-eac6b26f-e102-4c13-b998-e997cee464e0');\n",
              "        const dataTable =\n",
              "          await google.colab.kernel.invokeFunction('convertToInteractive',\n",
              "                                                    [key], {});\n",
              "        if (!dataTable) return;\n",
              "\n",
              "        const docLinkHtml = 'Like what you see? Visit the ' +\n",
              "          '<a target=\"_blank\" href=https://colab.research.google.com/notebooks/data_table.ipynb>data table notebook</a>'\n",
              "          + ' to learn more about interactive tables.';\n",
              "        element.innerHTML = '';\n",
              "        dataTable['output_type'] = 'display_data';\n",
              "        await google.colab.output.renderOutput(dataTable, element);\n",
              "        const docLink = document.createElement('div');\n",
              "        docLink.innerHTML = docLinkHtml;\n",
              "        element.appendChild(docLink);\n",
              "      }\n",
              "    </script>\n",
              "  </div>\n",
              "\n",
              "\n",
              "<div id=\"df-8bdcc82b-9ca6-47e1-84d4-27765789ba30\">\n",
              "  <button class=\"colab-df-quickchart\" onclick=\"quickchart('df-8bdcc82b-9ca6-47e1-84d4-27765789ba30')\"\n",
              "            title=\"Suggest charts\"\n",
              "            style=\"display:none;\">\n",
              "\n",
              "<svg xmlns=\"http://www.w3.org/2000/svg\" height=\"24px\"viewBox=\"0 0 24 24\"\n",
              "     width=\"24px\">\n",
              "    <g>\n",
              "        <path d=\"M19 3H5c-1.1 0-2 .9-2 2v14c0 1.1.9 2 2 2h14c1.1 0 2-.9 2-2V5c0-1.1-.9-2-2-2zM9 17H7v-7h2v7zm4 0h-2V7h2v10zm4 0h-2v-4h2v4z\"/>\n",
              "    </g>\n",
              "</svg>\n",
              "  </button>\n",
              "\n",
              "<style>\n",
              "  .colab-df-quickchart {\n",
              "      --bg-color: #E8F0FE;\n",
              "      --fill-color: #1967D2;\n",
              "      --hover-bg-color: #E2EBFA;\n",
              "      --hover-fill-color: #174EA6;\n",
              "      --disabled-fill-color: #AAA;\n",
              "      --disabled-bg-color: #DDD;\n",
              "  }\n",
              "\n",
              "  [theme=dark] .colab-df-quickchart {\n",
              "      --bg-color: #3B4455;\n",
              "      --fill-color: #D2E3FC;\n",
              "      --hover-bg-color: #434B5C;\n",
              "      --hover-fill-color: #FFFFFF;\n",
              "      --disabled-bg-color: #3B4455;\n",
              "      --disabled-fill-color: #666;\n",
              "  }\n",
              "\n",
              "  .colab-df-quickchart {\n",
              "    background-color: var(--bg-color);\n",
              "    border: none;\n",
              "    border-radius: 50%;\n",
              "    cursor: pointer;\n",
              "    display: none;\n",
              "    fill: var(--fill-color);\n",
              "    height: 32px;\n",
              "    padding: 0;\n",
              "    width: 32px;\n",
              "  }\n",
              "\n",
              "  .colab-df-quickchart:hover {\n",
              "    background-color: var(--hover-bg-color);\n",
              "    box-shadow: 0 1px 2px rgba(60, 64, 67, 0.3), 0 1px 3px 1px rgba(60, 64, 67, 0.15);\n",
              "    fill: var(--button-hover-fill-color);\n",
              "  }\n",
              "\n",
              "  .colab-df-quickchart-complete:disabled,\n",
              "  .colab-df-quickchart-complete:disabled:hover {\n",
              "    background-color: var(--disabled-bg-color);\n",
              "    fill: var(--disabled-fill-color);\n",
              "    box-shadow: none;\n",
              "  }\n",
              "\n",
              "  .colab-df-spinner {\n",
              "    border: 2px solid var(--fill-color);\n",
              "    border-color: transparent;\n",
              "    border-bottom-color: var(--fill-color);\n",
              "    animation:\n",
              "      spin 1s steps(1) infinite;\n",
              "  }\n",
              "\n",
              "  @keyframes spin {\n",
              "    0% {\n",
              "      border-color: transparent;\n",
              "      border-bottom-color: var(--fill-color);\n",
              "      border-left-color: var(--fill-color);\n",
              "    }\n",
              "    20% {\n",
              "      border-color: transparent;\n",
              "      border-left-color: var(--fill-color);\n",
              "      border-top-color: var(--fill-color);\n",
              "    }\n",
              "    30% {\n",
              "      border-color: transparent;\n",
              "      border-left-color: var(--fill-color);\n",
              "      border-top-color: var(--fill-color);\n",
              "      border-right-color: var(--fill-color);\n",
              "    }\n",
              "    40% {\n",
              "      border-color: transparent;\n",
              "      border-right-color: var(--fill-color);\n",
              "      border-top-color: var(--fill-color);\n",
              "    }\n",
              "    60% {\n",
              "      border-color: transparent;\n",
              "      border-right-color: var(--fill-color);\n",
              "    }\n",
              "    80% {\n",
              "      border-color: transparent;\n",
              "      border-right-color: var(--fill-color);\n",
              "      border-bottom-color: var(--fill-color);\n",
              "    }\n",
              "    90% {\n",
              "      border-color: transparent;\n",
              "      border-bottom-color: var(--fill-color);\n",
              "    }\n",
              "  }\n",
              "</style>\n",
              "\n",
              "  <script>\n",
              "    async function quickchart(key) {\n",
              "      const quickchartButtonEl =\n",
              "        document.querySelector('#' + key + ' button');\n",
              "      quickchartButtonEl.disabled = true;  // To prevent multiple clicks.\n",
              "      quickchartButtonEl.classList.add('colab-df-spinner');\n",
              "      try {\n",
              "        const charts = await google.colab.kernel.invokeFunction(\n",
              "            'suggestCharts', [key], {});\n",
              "      } catch (error) {\n",
              "        console.error('Error during call to suggestCharts:', error);\n",
              "      }\n",
              "      quickchartButtonEl.classList.remove('colab-df-spinner');\n",
              "      quickchartButtonEl.classList.add('colab-df-quickchart-complete');\n",
              "    }\n",
              "    (() => {\n",
              "      let quickchartButtonEl =\n",
              "        document.querySelector('#df-8bdcc82b-9ca6-47e1-84d4-27765789ba30 button');\n",
              "      quickchartButtonEl.style.display =\n",
              "        google.colab.kernel.accessAllowed ? 'block' : 'none';\n",
              "    })();\n",
              "  </script>\n",
              "</div>\n",
              "\n",
              "    </div>\n",
              "  </div>\n"
            ],
            "application/vnd.google.colaboratory.intrinsic+json": {
              "type": "dataframe",
              "variable_name": "df",
              "summary": "{\n  \"name\": \"df\",\n  \"rows\": 5989,\n  \"fields\": [\n    {\n      \"column\": \"Location\",\n      \"properties\": {\n        \"dtype\": \"string\",\n        \"num_unique_values\": 5989,\n        \"samples\": [\n          \"qWZkBRNwWL\",\n          \"mfZyCKYaOM\",\n          \"pSWgAYCveM\"\n        ],\n        \"semantic_type\": \"\",\n        \"description\": \"\"\n      }\n    },\n    {\n      \"column\": \"Country\",\n      \"properties\": {\n        \"dtype\": \"category\",\n        \"num_unique_values\": 7,\n        \"samples\": [\n          \"India\",\n          \"USA\",\n          \"China\"\n        ],\n        \"semantic_type\": \"\",\n        \"description\": \"\"\n      }\n    },\n    {\n      \"column\": \"Category\",\n      \"properties\": {\n        \"dtype\": \"number\",\n        \"std\": 1.7173259207623643,\n        \"min\": 0.0,\n        \"max\": 5.0,\n        \"num_unique_values\": 6,\n        \"samples\": [\n          4.0,\n          3.0,\n          5.0\n        ],\n        \"semantic_type\": \"\",\n        \"description\": \"\"\n      }\n    },\n    {\n      \"column\": \"Visitors\",\n      \"properties\": {\n        \"dtype\": \"number\",\n        \"std\": 289783,\n        \"min\": 1108,\n        \"max\": 999982,\n        \"num_unique_values\": 5969,\n        \"samples\": [\n          852107,\n          212735,\n          337951\n        ],\n        \"semantic_type\": \"\",\n        \"description\": \"\"\n      }\n    },\n    {\n      \"column\": \"Rating\",\n      \"properties\": {\n        \"dtype\": \"number\",\n        \"std\": 1.1559795566335105,\n        \"min\": 1.0,\n        \"max\": 5.0,\n        \"num_unique_values\": 401,\n        \"samples\": [\n          2.67,\n          2.42,\n          2.16\n        ],\n        \"semantic_type\": \"\",\n        \"description\": \"\"\n      }\n    },\n    {\n      \"column\": \"Revenue\",\n      \"properties\": {\n        \"dtype\": \"number\",\n        \"std\": 286743.2252106224,\n        \"min\": 1025.81,\n        \"max\": 999999.49,\n        \"num_unique_values\": 5989,\n        \"samples\": [\n          698224.65,\n          230020.48,\n          107767.31\n        ],\n        \"semantic_type\": \"\",\n        \"description\": \"\"\n      }\n    },\n    {\n      \"column\": \"Accommodation_Available\",\n      \"properties\": {\n        \"dtype\": \"category\",\n        \"num_unique_values\": 2,\n        \"samples\": [\n          \"No\",\n          \"Yes\"\n        ],\n        \"semantic_type\": \"\",\n        \"description\": \"\"\n      }\n    },\n    {\n      \"column\": \"Yes\",\n      \"properties\": {\n        \"dtype\": \"number\",\n        \"std\": 0.5000322056369567,\n        \"min\": 0.0,\n        \"max\": 1.0,\n        \"num_unique_values\": 2,\n        \"samples\": [\n          1.0,\n          0.0\n        ],\n        \"semantic_type\": \"\",\n        \"description\": \"\"\n      }\n    },\n    {\n      \"column\": \"No\",\n      \"properties\": {\n        \"dtype\": \"number\",\n        \"std\": 0.5000322056369567,\n        \"min\": 0.0,\n        \"max\": 1.0,\n        \"num_unique_values\": 2,\n        \"samples\": [\n          0.0,\n          1.0\n        ],\n        \"semantic_type\": \"\",\n        \"description\": \"\"\n      }\n    },\n    {\n      \"column\": \"Revenue_per_Visitor\",\n      \"properties\": {\n        \"dtype\": \"number\",\n        \"std\": 18.763033694333746,\n        \"min\": 0.0013497139710606015,\n        \"max\": 784.1273433782712,\n        \"num_unique_values\": 5989,\n        \"samples\": [\n          1.0979566179349647,\n          0.8542626883852902\n        ],\n        \"semantic_type\": \"\",\n        \"description\": \"\"\n      }\n    },\n    {\n      \"column\": \"Rating_Category\",\n      \"properties\": {\n        \"dtype\": \"category\",\n        \"num_unique_values\": 3,\n        \"samples\": [\n          \"Low\",\n          \"Medium\"\n        ],\n        \"semantic_type\": \"\",\n        \"description\": \"\"\n      }\n    }\n  ]\n}"
            }
          },
          "metadata": {},
          "execution_count": 75
        }
      ]
    },
    {
      "cell_type": "markdown",
      "source": [
        "Untuk bagian ini saya menambahkan kolom baru revenue_per_visitor dan rating_category, ini adalah feature baru yang hasilnnya didapat dengan mengekstrak data mentah dari 2 kolom yaitu revenue dan visitors."
      ],
      "metadata": {
        "id": "3omhbJ3T6dyy"
      }
    },
    {
      "cell_type": "markdown",
      "source": [
        "# **5.Data Splitting**"
      ],
      "metadata": {
        "id": "4uMpbEm_euko"
      }
    },
    {
      "cell_type": "markdown",
      "source": [
        "Sebelum lakukan data splitting pertama kita import dulu sklearn.model_selection kita mengimport train_test_split untuk membagi dataset."
      ],
      "metadata": {
        "id": "s-45nTHF8qeD"
      }
    },
    {
      "cell_type": "code",
      "source": [
        "from sklearn.model_selection import train_test_split"
      ],
      "metadata": {
        "id": "wHVBzUrNezCZ"
      },
      "execution_count": null,
      "outputs": []
    },
    {
      "cell_type": "markdown",
      "source": [
        "Disini saya membagi Training set dan Testing set dengan perbandingan 70 : 30 dengan menggunakan test_size = 0.3"
      ],
      "metadata": {
        "id": "Mz0j2Eyu895J"
      }
    },
    {
      "cell_type": "code",
      "source": [
        "# Subset feature dan target\n",
        "X = df.iloc[:,:-1]\n",
        "Y = df.iloc[:,-1]"
      ],
      "metadata": {
        "id": "1mG7pTgEe2rF"
      },
      "execution_count": null,
      "outputs": []
    },
    {
      "cell_type": "code",
      "source": [
        "#Splitting Data\n",
        "X_train, X_test, Y_train, Y_test = train_test_split(X, Y, test_size=0.3)"
      ],
      "metadata": {
        "id": "om9BIl00e_om"
      },
      "execution_count": null,
      "outputs": []
    },
    {
      "cell_type": "code",
      "source": [
        "#Melihat Dimensi Data X, y Train dan Test\n",
        "print(\"Dimensi X_train :\", X_train.shape)\n",
        "print(\"Dimensi X_test  :\", X_test.shape)\n",
        "print(\"Dimensi Y_train :\", Y_train.shape)\n",
        "print(\"Dimensi Y_test  :\", Y_test.shape)"
      ],
      "metadata": {
        "colab": {
          "base_uri": "https://localhost:8080/"
        },
        "id": "bKUoplBIfGRU",
        "outputId": "dbb54785-6eca-490c-cb1f-13309d4bff31"
      },
      "execution_count": null,
      "outputs": [
        {
          "output_type": "stream",
          "name": "stdout",
          "text": [
            "Dimensi X_train : (4192, 10)\n",
            "Dimensi X_test  : (1797, 10)\n",
            "Dimensi Y_train : (4192,)\n",
            "Dimensi Y_test  : (1797,)\n"
          ]
        }
      ]
    },
    {
      "cell_type": "markdown",
      "source": [
        "- test_size : Mendefinisikan ukuran testing set (0.3 = 30% dari seluruh dataset) dan ukuran train set akan otomatis 0.7 atau 70% dari seluruh dataset\n",
        "\n",
        "- X_train : Untuk menampung data source yang akan dilatih.\n",
        "\n",
        "- X_test : Untuk menampung data target yang akan dilatih.\n",
        "\n",
        "- Y_train : Untuk menampung data source yang akan digunakan untuk testing.\n",
        "\n",
        "- Y_test : Untuk menampung data target yang akan digunakan untuk testing."
      ],
      "metadata": {
        "id": "oxOP8zKp9K_9"
      }
    }
  ]
}